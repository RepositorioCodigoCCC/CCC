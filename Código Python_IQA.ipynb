{
 "cells": [
  {
   "cell_type": "markdown",
   "id": "dcdd425a",
   "metadata": {},
   "source": [
    "# **ÍNDICE FELIPE**"
   ]
  },
  {
   "cell_type": "code",
   "execution_count": 1,
   "id": "9afb71f7",
   "metadata": {
    "executionInfo": {
     "elapsed": 359,
     "status": "ok",
     "timestamp": 1643818119240,
     "user": {
      "displayName": "LUIS FELIPE MONTENEGRO FUENTES",
      "photoUrl": "https://lh3.googleusercontent.com/a-/AOh14Ggvk0J3I81HulEpdjJSYfgeLx7Au5ShAHgeQJUi52A=s64",
      "userId": "04832098367353351521"
     },
     "user_tz": 300
    },
    "id": "9afb71f7"
   },
   "outputs": [],
   "source": [
    "# cargue de librerias\n",
    "import numpy as np\n",
    "import pandas as pd"
   ]
  },
  {
   "cell_type": "code",
   "execution_count": 2,
   "id": "XkCfBZPsMlm1",
   "metadata": {
    "colab": {
     "base_uri": "https://localhost:8080/"
    },
    "executionInfo": {
     "elapsed": 2805,
     "status": "ok",
     "timestamp": 1643818269522,
     "user": {
      "displayName": "LUIS FELIPE MONTENEGRO FUENTES",
      "photoUrl": "https://lh3.googleusercontent.com/a-/AOh14Ggvk0J3I81HulEpdjJSYfgeLx7Au5ShAHgeQJUi52A=s64",
      "userId": "04832098367353351521"
     },
     "user_tz": 300
    },
    "id": "XkCfBZPsMlm1",
    "outputId": "5940209f-b681-4926-eb56-807744ac230b"
   },
   "outputs": [
    {
     "name": "stdout",
     "output_type": "stream",
     "text": [
      "Requirement already satisfied: openpyxl in c:\\users\\ladoming\\anaconda3\\lib\\site-packages (3.0.9)\n",
      "Requirement already satisfied: et-xmlfile in c:\\users\\ladoming\\anaconda3\\lib\\site-packages (from openpyxl) (1.1.0)\n"
     ]
    }
   ],
   "source": [
    "!pip install openpyxl\n",
    "from openpyxl import Workbook\n",
    "import openpyxl"
   ]
  },
  {
   "cell_type": "markdown",
   "id": "c46b98c6",
   "metadata": {
    "id": "c46b98c6"
   },
   "source": [
    "Ahora procedemos a realizar el cargue de la base de datos del registro mercantil"
   ]
  },
  {
   "cell_type": "code",
   "execution_count": 4,
   "id": "149a2dbc",
   "metadata": {
    "colab": {
     "base_uri": "https://localhost:8080/",
     "height": 519
    },
    "executionInfo": {
     "elapsed": 11,
     "status": "error",
     "timestamp": 1643818272101,
     "user": {
      "displayName": "LUIS FELIPE MONTENEGRO FUENTES",
      "photoUrl": "https://lh3.googleusercontent.com/a-/AOh14Ggvk0J3I81HulEpdjJSYfgeLx7Au5ShAHgeQJUi52A=s64",
      "userId": "04832098367353351521"
     },
     "user_tz": 300
    },
    "id": "149a2dbc",
    "outputId": "82d5d072-02db-4944-be2f-b7b2426925f8"
   },
   "outputs": [
    {
     "name": "stdout",
     "output_type": "stream",
     "text": [
      "<class 'pandas.core.frame.DataFrame'>\n",
      "RangeIndex: 108454 entries, 0 to 108453\n",
      "Data columns (total 38 columns):\n",
      " #   Column                   Non-Null Count   Dtype  \n",
      "---  ------                   --------------   -----  \n",
      " 0   MATRICULA                108454 non-null  object \n",
      " 1   NIT                      108454 non-null  object \n",
      " 2   ESTADO_MAT_REN           108454 non-null  object \n",
      " 3   MAT_REN                  108454 non-null  object \n",
      " 4   DESC_CATEGORIA           108454 non-null  object \n",
      " 5   ESTADO_ACTUAL            108454 non-null  object \n",
      " 6   SECTOR                   108454 non-null  object \n",
      " 7   RAZON_SOCIAL             108450 non-null  object \n",
      " 8   DESC_CIIU                108454 non-null  object \n",
      " 9   NOM_ENTE_JURIDICO        108454 non-null  object \n",
      " 10  DESC_TAMANO              108454 non-null  object \n",
      " 11  TAMANO957                108454 non-null  object \n",
      " 12  CIUDAD                   108452 non-null  object \n",
      " 13  Año de FECHA_RENOVACION  108454 non-null  object \n",
      " 14  FECHA_RENOVACION         108454 non-null  object \n",
      " 15  FECHA_MATRICULA          108452 non-null  object \n",
      " 16  FECHA_MAT_REN            108454 non-null  object \n",
      " 17  EMAIL                    108446 non-null  object \n",
      " 18  TELEFONO                 108411 non-null  object \n",
      " 19  COMUNA                   102628 non-null  object \n",
      " 20  DIRECCION_COMERCIAL      108444 non-null  object \n",
      " 21  DESC_CATEGORIA.1         108454 non-null  object \n",
      " 22  DESC_TIPO_REGISTRO       108454 non-null  object \n",
      " 23  PATRIMONIO               108453 non-null  float64\n",
      " 24  PERSONAL_OCUPADO         108154 non-null  float64\n",
      " 25  ESTABLECIMIENTOS         108454 non-null  int64  \n",
      " 26  TOT_ACTIVOS              108454 non-null  int64  \n",
      " 27  TOT_PASIVO               108453 non-null  float64\n",
      " 28  UTILILIDAD_PERDIDA       108454 non-null  int64  \n",
      " 29  UTILILIDAD_BRUTA         108453 non-null  float64\n",
      " 30  VENTAS                   107934 non-null  float64\n",
      " 31  CONSECUTIVO_PROPIETARIO  108416 non-null  float64\n",
      " 32  NUM_CONSECUTIVO          108454 non-null  int64  \n",
      " 33  CODIGO_CIIU              108454 non-null  object \n",
      " 34  BARRIO                   102071 non-null  object \n",
      " 35  REP_LEGAL                108454 non-null  object \n",
      " 36  AFILIADO                 108454 non-null  object \n",
      " 37  PORCENT_EXTRANJERO       48555 non-null   float64\n",
      "dtypes: float64(7), int64(4), object(27)\n",
      "memory usage: 31.4+ MB\n"
     ]
    },
    {
     "data": {
      "text/html": [
       "<div>\n",
       "<style scoped>\n",
       "    .dataframe tbody tr th:only-of-type {\n",
       "        vertical-align: middle;\n",
       "    }\n",
       "\n",
       "    .dataframe tbody tr th {\n",
       "        vertical-align: top;\n",
       "    }\n",
       "\n",
       "    .dataframe thead th {\n",
       "        text-align: right;\n",
       "    }\n",
       "</style>\n",
       "<table border=\"1\" class=\"dataframe\">\n",
       "  <thead>\n",
       "    <tr style=\"text-align: right;\">\n",
       "      <th></th>\n",
       "      <th>MATRICULA</th>\n",
       "      <th>NIT</th>\n",
       "      <th>ESTADO_MAT_REN</th>\n",
       "      <th>MAT_REN</th>\n",
       "      <th>DESC_CATEGORIA</th>\n",
       "      <th>ESTADO_ACTUAL</th>\n",
       "      <th>SECTOR</th>\n",
       "      <th>RAZON_SOCIAL</th>\n",
       "      <th>DESC_CIIU</th>\n",
       "      <th>NOM_ENTE_JURIDICO</th>\n",
       "      <th>...</th>\n",
       "      <th>UTILILIDAD_PERDIDA</th>\n",
       "      <th>UTILILIDAD_BRUTA</th>\n",
       "      <th>VENTAS</th>\n",
       "      <th>CONSECUTIVO_PROPIETARIO</th>\n",
       "      <th>NUM_CONSECUTIVO</th>\n",
       "      <th>CODIGO_CIIU</th>\n",
       "      <th>BARRIO</th>\n",
       "      <th>REP_LEGAL</th>\n",
       "      <th>AFILIADO</th>\n",
       "      <th>PORCENT_EXTRANJERO</th>\n",
       "    </tr>\n",
       "  </thead>\n",
       "  <tbody>\n",
       "    <tr>\n",
       "      <th>0</th>\n",
       "      <td>60</td>\n",
       "      <td>890306499</td>\n",
       "      <td>A</td>\n",
       "      <td>Renovacion</td>\n",
       "      <td>PERSONA JURIDICA</td>\n",
       "      <td>ACTIVO</td>\n",
       "      <td>C</td>\n",
       "      <td>UNION PLASTICA S.A.S.                         ...</td>\n",
       "      <td>FABRICACIÓN DE ARTÍCULOS DE PLÁSTICO N.C.P.   ...</td>\n",
       "      <td>Sociedad por Acciones Simplificada            ...</td>\n",
       "      <td>...</td>\n",
       "      <td>6364618950</td>\n",
       "      <td>4.257448e+09</td>\n",
       "      <td>4.221629e+10</td>\n",
       "      <td>0.0</td>\n",
       "      <td>19</td>\n",
       "      <td>2229</td>\n",
       "      <td>Barrio Yumbo</td>\n",
       "      <td>JOSÉ GUILLERMO PARDO BORRERO</td>\n",
       "      <td>S</td>\n",
       "      <td>0.0</td>\n",
       "    </tr>\n",
       "    <tr>\n",
       "      <th>1</th>\n",
       "      <td>64</td>\n",
       "      <td>860026759</td>\n",
       "      <td>A</td>\n",
       "      <td>Renovacion</td>\n",
       "      <td>PERSONA JURIDICA</td>\n",
       "      <td>ACTIVO</td>\n",
       "      <td>C</td>\n",
       "      <td>CARTONES AMERICA S.A. CAME                    ...</td>\n",
       "      <td>FABRICACIÓN DE PAPEL Y CARTÓN ONDULADO (CORRUG...</td>\n",
       "      <td>Sociedad Anónima                              ...</td>\n",
       "      <td>...</td>\n",
       "      <td>79168212000</td>\n",
       "      <td>9.903336e+10</td>\n",
       "      <td>3.988043e+11</td>\n",
       "      <td>0.0</td>\n",
       "      <td>21</td>\n",
       "      <td>1702</td>\n",
       "      <td>Brisas De Los Alamos</td>\n",
       "      <td>JUAN ADALBERTO ZOLTAN ANDUJAR</td>\n",
       "      <td>S</td>\n",
       "      <td>30.0</td>\n",
       "    </tr>\n",
       "    <tr>\n",
       "      <th>2</th>\n",
       "      <td>159</td>\n",
       "      <td>4872952</td>\n",
       "      <td>A</td>\n",
       "      <td>Renovacion</td>\n",
       "      <td>PERSONA NATURAL</td>\n",
       "      <td>ACTIVO</td>\n",
       "      <td>G</td>\n",
       "      <td>JOJOA ROSERO JOSE FRANCISCO                   ...</td>\n",
       "      <td>COMERCIO AL POR MENOR EN ESTABLECIMIENTOS NO E...</td>\n",
       "      <td>Persona Natural                               ...</td>\n",
       "      <td>...</td>\n",
       "      <td>0</td>\n",
       "      <td>0.000000e+00</td>\n",
       "      <td>0.000000e+00</td>\n",
       "      <td>0.0</td>\n",
       "      <td>54</td>\n",
       "      <td>4711</td>\n",
       "      <td>La Campina</td>\n",
       "      <td>JOSE FRANCISCO JOJOA ROSERO</td>\n",
       "      <td>N</td>\n",
       "      <td>0.0</td>\n",
       "    </tr>\n",
       "    <tr>\n",
       "      <th>3</th>\n",
       "      <td>197</td>\n",
       "      <td>14447242</td>\n",
       "      <td>A</td>\n",
       "      <td>Renovacion</td>\n",
       "      <td>PERSONA NATURAL</td>\n",
       "      <td>ACTIVO</td>\n",
       "      <td>C</td>\n",
       "      <td>QUINTANA CORREA JOSE SAULO                    ...</td>\n",
       "      <td>FABRICACIÓN DE HOJAS DE MADERA PARA ENCHAPADO;...</td>\n",
       "      <td>Persona Natural                               ...</td>\n",
       "      <td>...</td>\n",
       "      <td>2351028</td>\n",
       "      <td>2.635103e+07</td>\n",
       "      <td>2.351028e+06</td>\n",
       "      <td>0.0</td>\n",
       "      <td>69</td>\n",
       "      <td>1620</td>\n",
       "      <td>Centenario</td>\n",
       "      <td>JOSE SAULO QUINTANA CORREA</td>\n",
       "      <td>N</td>\n",
       "      <td>0.0</td>\n",
       "    </tr>\n",
       "    <tr>\n",
       "      <th>4</th>\n",
       "      <td>217</td>\n",
       "      <td>2401807</td>\n",
       "      <td>A</td>\n",
       "      <td>Renovacion</td>\n",
       "      <td>PERSONA NATURAL</td>\n",
       "      <td>ACTIVO</td>\n",
       "      <td>H</td>\n",
       "      <td>RINCON CASTRO ROMULO DE JESUS                 ...</td>\n",
       "      <td>TRANSPORTE DE PASAJEROS                       ...</td>\n",
       "      <td>Persona Natural                               ...</td>\n",
       "      <td>...</td>\n",
       "      <td>277811736</td>\n",
       "      <td>2.778117e+08</td>\n",
       "      <td>8.500777e+08</td>\n",
       "      <td>0.0</td>\n",
       "      <td>75</td>\n",
       "      <td>4921</td>\n",
       "      <td>Santa Teresita</td>\n",
       "      <td>ROMULO DE JESUS RINCON CASTRO</td>\n",
       "      <td>N</td>\n",
       "      <td>NaN</td>\n",
       "    </tr>\n",
       "  </tbody>\n",
       "</table>\n",
       "<p>5 rows × 38 columns</p>\n",
       "</div>"
      ],
      "text/plain": [
       "  MATRICULA        NIT ESTADO_MAT_REN     MAT_REN    DESC_CATEGORIA  \\\n",
       "0        60  890306499              A  Renovacion  PERSONA JURIDICA   \n",
       "1        64  860026759              A  Renovacion  PERSONA JURIDICA   \n",
       "2       159    4872952              A  Renovacion   PERSONA NATURAL   \n",
       "3       197   14447242              A  Renovacion   PERSONA NATURAL   \n",
       "4       217    2401807              A  Renovacion   PERSONA NATURAL   \n",
       "\n",
       "  ESTADO_ACTUAL SECTOR                                       RAZON_SOCIAL  \\\n",
       "0        ACTIVO      C  UNION PLASTICA S.A.S.                         ...   \n",
       "1        ACTIVO      C  CARTONES AMERICA S.A. CAME                    ...   \n",
       "2        ACTIVO      G  JOJOA ROSERO JOSE FRANCISCO                   ...   \n",
       "3        ACTIVO      C  QUINTANA CORREA JOSE SAULO                    ...   \n",
       "4        ACTIVO      H  RINCON CASTRO ROMULO DE JESUS                 ...   \n",
       "\n",
       "                                           DESC_CIIU  \\\n",
       "0  FABRICACIÓN DE ARTÍCULOS DE PLÁSTICO N.C.P.   ...   \n",
       "1  FABRICACIÓN DE PAPEL Y CARTÓN ONDULADO (CORRUG...   \n",
       "2  COMERCIO AL POR MENOR EN ESTABLECIMIENTOS NO E...   \n",
       "3  FABRICACIÓN DE HOJAS DE MADERA PARA ENCHAPADO;...   \n",
       "4  TRANSPORTE DE PASAJEROS                       ...   \n",
       "\n",
       "                                   NOM_ENTE_JURIDICO  ... UTILILIDAD_PERDIDA  \\\n",
       "0  Sociedad por Acciones Simplificada            ...  ...         6364618950   \n",
       "1  Sociedad Anónima                              ...  ...        79168212000   \n",
       "2  Persona Natural                               ...  ...                  0   \n",
       "3  Persona Natural                               ...  ...            2351028   \n",
       "4  Persona Natural                               ...  ...          277811736   \n",
       "\n",
       "  UTILILIDAD_BRUTA        VENTAS CONSECUTIVO_PROPIETARIO NUM_CONSECUTIVO  \\\n",
       "0     4.257448e+09  4.221629e+10                     0.0              19   \n",
       "1     9.903336e+10  3.988043e+11                     0.0              21   \n",
       "2     0.000000e+00  0.000000e+00                     0.0              54   \n",
       "3     2.635103e+07  2.351028e+06                     0.0              69   \n",
       "4     2.778117e+08  8.500777e+08                     0.0              75   \n",
       "\n",
       "  CODIGO_CIIU                BARRIO                       REP_LEGAL AFILIADO  \\\n",
       "0        2229          Barrio Yumbo  JOSÉ GUILLERMO PARDO BORRERO          S   \n",
       "1        1702  Brisas De Los Alamos  JUAN ADALBERTO ZOLTAN ANDUJAR         S   \n",
       "2        4711            La Campina  JOSE FRANCISCO JOJOA ROSERO           N   \n",
       "3        1620            Centenario  JOSE SAULO QUINTANA CORREA            N   \n",
       "4        4921        Santa Teresita  ROMULO DE JESUS RINCON CASTRO         N   \n",
       "\n",
       "  PORCENT_EXTRANJERO  \n",
       "0                0.0  \n",
       "1               30.0  \n",
       "2                0.0  \n",
       "3                0.0  \n",
       "4                NaN  \n",
       "\n",
       "[5 rows x 38 columns]"
      ]
     },
     "execution_count": 4,
     "metadata": {},
     "output_type": "execute_result"
    }
   ],
   "source": [
    "BD=pd.read_excel(\"MATREM_CCC_ENE-AGO2022_V1(SEP_08_EEE3).xlsx\",dtype={'CODIGO_CIIU':object, 'MATRICULA': object, 'NIT':object, 'Año de FECHA_RENOVACION':object, 'TELEFONO': object})\n",
    "BD.info()\n",
    "BD.head()"
   ]
  },
  {
   "cell_type": "markdown",
   "id": "892d7f70",
   "metadata": {
    "id": "892d7f70"
   },
   "source": [
    "# Medición de calidad de datos por dimensión"
   ]
  },
  {
   "cell_type": "markdown",
   "id": "ca608dca",
   "metadata": {
    "id": "ca608dca"
   },
   "source": [
    "## Dimensión Exactitud"
   ]
  },
  {
   "cell_type": "code",
   "execution_count": 5,
   "id": "e95ad458",
   "metadata": {
    "id": "e95ad458"
   },
   "outputs": [
    {
     "data": {
      "text/plain": [
       "1.0"
      ]
     },
     "execution_count": 5,
     "metadata": {},
     "output_type": "execute_result"
    }
   ],
   "source": [
    "## ACTIVOS TOTALES\n",
    "activos_total=len(BD['TOT_ACTIVOS'].dropna()) #Se borran las entradas que no tienen información\n",
    "activos_cero=sum(BD['TOT_ACTIVOS']==0) #Se saca aparte un grupo con los Activos que son iguales a cero \n",
    "activos_fuera_rango=sum(BD['TOT_ACTIVOS']<0) #Se saca aparte un grupo con los activos negativos\n",
    "\n",
    "#El objetivo es buscar qué tan bien están las caracterísitcas para el índice\n",
    "#El cero lo sacamos porque no se está plenamente seguro de donde si se digitó o no la información \n",
    "\n",
    "metrica_activos_rango= 1 - (activos_fuera_rango/(activos_total-activos_cero))\n",
    "metrica_activos_rango"
   ]
  },
  {
   "cell_type": "code",
   "execution_count": 44,
   "id": "6a9d83c2",
   "metadata": {
    "id": "6a9d83c2"
   },
   "outputs": [
    {
     "name": "stdout",
     "output_type": "stream",
     "text": [
      "9\n"
     ]
    },
    {
     "data": {
      "text/plain": [
       "0.9996909765142151"
      ]
     },
     "execution_count": 44,
     "metadata": {},
     "output_type": "execute_result"
    }
   ],
   "source": [
    "## PASIVOS TOTALES\n",
    "\n",
    "##Es correcto o incorrecto que los pasivos sean negativos.\n",
    "pasivos_total=len(BD['TOT_PASIVO'].dropna())\n",
    "pasivos_cero=sum(BD['TOT_PASIVO']==0) \n",
    "pasivos_fuera_rango=sum(BD['TOT_PASIVO']<0)\n",
    "\n",
    "print(pasivos_fuera_rango)\n",
    "\n",
    "metrica_pasivos_rango= 1 - (pasivos_fuera_rango/(pasivos_total-pasivos_cero))\n",
    "metrica_pasivos_rango"
   ]
  },
  {
   "cell_type": "code",
   "execution_count": 7,
   "id": "c092ab57",
   "metadata": {
    "id": "c092ab57"
   },
   "outputs": [
    {
     "data": {
      "text/plain": [
       "0.9998906685617449"
      ]
     },
     "execution_count": 7,
     "metadata": {},
     "output_type": "execute_result"
    }
   ],
   "source": [
    "## VENTAS\n",
    "ventas_total=len(BD['VENTAS'].dropna())\n",
    "ventas_cero=sum(BD['VENTAS']==0)\n",
    "ventas_fuera_rango=sum(BD['VENTAS']<0)\n",
    "\n",
    "# print(ventas_total);print(ventas_cero);print(ventas_fuera_rango)\n",
    "\n",
    "metrica_ventas_rango= 1 - (ventas_fuera_rango/(ventas_total-ventas_cero))\n",
    "metrica_ventas_rango"
   ]
  },
  {
   "cell_type": "markdown",
   "id": "c0dec55a",
   "metadata": {
    "id": "c0dec55a"
   },
   "source": [
    "### Indicador de calidad - Exactitud"
   ]
  },
  {
   "cell_type": "code",
   "execution_count": 8,
   "id": "de743e2d",
   "metadata": {
    "id": "de743e2d"
   },
   "outputs": [
    {
     "name": "stdout",
     "output_type": "stream",
     "text": [
      "El indicador de la dimensión EXACTITUD por medio del mínimo es: 0.99989\n",
      "El indicador de la dimensión EXACTITUD por medio del promedio es: 0.99994\n"
     ]
    }
   ],
   "source": [
    "indicador_exactitud_minimo=min(metrica_activos_rango,metrica_pasivos_rango,metrica_ventas_rango)\n",
    "indicador_exactitud_promedio=np.mean([metrica_activos_rango,metrica_pasivos_rango,metrica_ventas_rango])\n",
    "\n",
    "print(f'El indicador de la dimensión EXACTITUD por medio del mínimo es: {np.round(indicador_exactitud_minimo,5)}')\n",
    "print(f'El indicador de la dimensión EXACTITUD por medio del promedio es: {np.round(indicador_exactitud_promedio,5)}')"
   ]
  },
  {
   "cell_type": "markdown",
   "id": "73afa6c4",
   "metadata": {
    "id": "73afa6c4"
   },
   "source": [
    "## Dimensión Completitud"
   ]
  },
  {
   "cell_type": "code",
   "execution_count": 9,
   "id": "25fad57f",
   "metadata": {
    "id": "25fad57f"
   },
   "outputs": [
    {
     "data": {
      "text/plain": [
       "0.9973168347870986"
      ]
     },
     "execution_count": 9,
     "metadata": {},
     "output_type": "execute_result"
    }
   ],
   "source": [
    "## ACTIVOS COMPLETITUD\n",
    "registros_totales=len(BD) ## Cantidad de registros de la base de datos \n",
    "#Estamos buscando calcular el número de registros que tienen ACTIVOS nulo. A la cantidad de registros totales\n",
    "#le restamos el número de registros que no son nulos y le sumamos los que tienen activos iguales a cero que también actuan como nulos\n",
    "#Básicamente hicimos Registros Nulos = Registros Totales - Registros que no son nulos + Registros que tienen activos iguales a cero\n",
    "activos_nulos=registros_totales-len(BD['TOT_ACTIVOS'].dropna())+activos_cero \n",
    "\n",
    "activos_completos= 1- (activos_nulos/registros_totales)\n",
    "activos_completos"
   ]
  },
  {
   "cell_type": "code",
   "execution_count": 10,
   "id": "2af2db96",
   "metadata": {
    "id": "2af2db96"
   },
   "outputs": [
    {
     "data": {
      "text/plain": [
       "0.9999907795009866"
      ]
     },
     "execution_count": 10,
     "metadata": {},
     "output_type": "execute_result"
    }
   ],
   "source": [
    "## PASIVOS COMPLETITUD \n",
    "pasivos_nulos=registros_totales-len(BD['TOT_PASIVO'].dropna())\n",
    "\n",
    "pasivos_completos= 1-(pasivos_nulos/registros_totales)\n",
    "pasivos_completos"
   ]
  },
  {
   "cell_type": "code",
   "execution_count": 11,
   "id": "be6638e1",
   "metadata": {
    "id": "be6638e1"
   },
   "outputs": [
    {
     "data": {
      "text/plain": [
       "0.33734117690449406"
      ]
     },
     "execution_count": 11,
     "metadata": {},
     "output_type": "execute_result"
    }
   ],
   "source": [
    "## VENTAS (INGRESOS_ACT_ORDINARIA)\n",
    "ventas_nulos=registros_totales - len(BD['VENTAS'].dropna()) + ventas_cero\n",
    "\n",
    "ventas_completos= 1- (ventas_nulos/registros_totales)\n",
    "ventas_completos"
   ]
  },
  {
   "cell_type": "code",
   "execution_count": 12,
   "id": "06351196",
   "metadata": {
    "id": "06351196"
   },
   "outputs": [
    {
     "data": {
      "text/plain": [
       "0.9999907795009866"
      ]
     },
     "execution_count": 12,
     "metadata": {},
     "output_type": "execute_result"
    }
   ],
   "source": [
    "## PATRIMONIO\n",
    "patrimonio_nulos=registros_totales - len(BD['PATRIMONIO'].dropna())\n",
    "\n",
    "patrimonio_completos= 1-(patrimonio_nulos/registros_totales)\n",
    "patrimonio_completos\n"
   ]
  },
  {
   "cell_type": "code",
   "execution_count": 13,
   "id": "d07b68b8",
   "metadata": {
    "id": "d07b68b8"
   },
   "outputs": [
    {
     "data": {
      "text/plain": [
       "0.9978792852269165"
      ]
     },
     "execution_count": 13,
     "metadata": {},
     "output_type": "execute_result"
    }
   ],
   "source": [
    "## NIT\n",
    "nit_nulos=registros_totales - len(BD['NIT'].dropna()) + sum(BD['NIT']==0)\n",
    "\n",
    "nit_completos=1-(nit_nulos/registros_totales)\n",
    "nit_completos"
   ]
  },
  {
   "cell_type": "code",
   "execution_count": 14,
   "id": "56ee20b4",
   "metadata": {
    "id": "56ee20b4"
   },
   "outputs": [
    {
     "data": {
      "text/plain": [
       "1.0"
      ]
     },
     "execution_count": 14,
     "metadata": {},
     "output_type": "execute_result"
    }
   ],
   "source": [
    "## SECTOR\n",
    "sector_nulos=registros_totales - len(BD['SECTOR'].dropna()) + sum(BD['SECTOR']==0)\n",
    "\n",
    "sector_completos= 1- (sector_nulos/registros_totales)\n",
    "sector_completos"
   ]
  },
  {
   "cell_type": "code",
   "execution_count": 15,
   "id": "20c2d544",
   "metadata": {
    "id": "20c2d544"
   },
   "outputs": [
    {
     "data": {
      "text/plain": [
       "0.9999815590019732"
      ]
     },
     "execution_count": 15,
     "metadata": {},
     "output_type": "execute_result"
    }
   ],
   "source": [
    "## CIUDAD\n",
    "ciudad_nulos=registros_totales - len(BD['CIUDAD'].dropna())\n",
    "\n",
    "ciudad_completos=1 - (ciudad_nulos/registros_totales)\n",
    "ciudad_completos"
   ]
  },
  {
   "cell_type": "code",
   "execution_count": 16,
   "id": "e0593475",
   "metadata": {
    "id": "e0593475"
   },
   "outputs": [
    {
     "data": {
      "text/plain": [
       "0.9517231484992263"
      ]
     },
     "execution_count": 16,
     "metadata": {},
     "output_type": "execute_result"
    }
   ],
   "source": [
    "## COMUNA\n",
    "#Se evalúa una subbase con los registros que pertenecen a Cali\n",
    "BD_cali=BD[BD['CIUDAD']=='Cali']\n",
    "registros_tot_comunas=len(BD_cali)\n",
    "\n",
    "comuna_nulos= registros_tot_comunas - len(BD_cali['COMUNA'].dropna())\n",
    "\n",
    "comuna_completos= 1- (comuna_nulos/registros_tot_comunas)\n",
    "comuna_completos"
   ]
  },
  {
   "cell_type": "code",
   "execution_count": 17,
   "id": "57b4074e",
   "metadata": {
    "id": "57b4074e"
   },
   "outputs": [
    {
     "data": {
      "text/plain": [
       "1.0"
      ]
     },
     "execution_count": 17,
     "metadata": {},
     "output_type": "execute_result"
    }
   ],
   "source": [
    "#UTILIDAD PERDIDA (UTILIDAD OPERACIONAL)\n",
    "#Cómo manejar el hecho que la variable tenga tantos registros iguales a cero, los manejamos como nulos?\n",
    "utilidad_perdida_nulos=registros_totales - len(BD['UTILILIDAD_PERDIDA'].dropna())\n",
    "\n",
    "#Formas de revisar la cantidad de ceros que tiene esta variable \n",
    "#sum(BD['UTILILIDAD_PERDIDA'] == 0)\n",
    "#print((BD['UTILILIDAD_PERDIDA']==0).value_counts())\n",
    "\n",
    "\n",
    "utilidad_perdida_completos = 1 - (utilidad_perdida_nulos/registros_totales)\n",
    "utilidad_perdida_completos\n"
   ]
  },
  {
   "cell_type": "code",
   "execution_count": 18,
   "id": "b2a77196",
   "metadata": {
    "id": "b2a77196"
   },
   "outputs": [
    {
     "data": {
      "text/plain": [
       "0.9999907795009866"
      ]
     },
     "execution_count": 18,
     "metadata": {},
     "output_type": "execute_result"
    }
   ],
   "source": [
    "## UTILIDAD BRUTA (RESULTADO_PERIODO)\n",
    "utilidad_bruta_nulos= registros_totales - len(BD['UTILILIDAD_BRUTA'].dropna())\n",
    "\n",
    "#Siempres es 1 menos el complemento (lo que está mal). El resultado nos da la proporción de la variable que está bien\n",
    "\n",
    "utilidad_bruta_completos= 1- (utilidad_bruta_nulos/registros_totales)\n",
    "utilidad_bruta_completos"
   ]
  },
  {
   "cell_type": "markdown",
   "id": "1fb36a76",
   "metadata": {
    "id": "1fb36a76"
   },
   "source": [
    "### Indicador de Calidad - Completitud "
   ]
  },
  {
   "cell_type": "code",
   "execution_count": 19,
   "id": "77867b97",
   "metadata": {
    "id": "77867b97"
   },
   "outputs": [
    {
     "name": "stdout",
     "output_type": "stream",
     "text": [
      "El indicador de la dimensión COMPLETITUD por medio del mínimo es: 0.33734\n",
      "El indicador de la dimensión COMPLETITUD por medio del promedio es: 0.92842\n"
     ]
    }
   ],
   "source": [
    "indicador_completitud_minimo=min(activos_completos,pasivos_completos,patrimonio_completos,ventas_completos,\n",
    "                                nit_completos,sector_completos,ciudad_completos,comuna_completos, utilidad_perdida_completos,\n",
    "                                utilidad_bruta_completos)\n",
    "indicador_completitud_promedio= np.mean([activos_completos,pasivos_completos,patrimonio_completos,ventas_completos,\n",
    "                                nit_completos,sector_completos,ciudad_completos,comuna_completos, utilidad_perdida_completos,\n",
    "                                utilidad_bruta_completos])\n",
    "\n",
    "print(f'El indicador de la dimensión COMPLETITUD por medio del mínimo es: {np.round(indicador_completitud_minimo,5)}')\n",
    "print(f'El indicador de la dimensión COMPLETITUD por medio del promedio es: {np.round(indicador_completitud_promedio,5)}')"
   ]
  },
  {
   "cell_type": "markdown",
   "id": "28a3f87b",
   "metadata": {
    "id": "28a3f87b"
   },
   "source": [
    "## Dimensión Consistencia"
   ]
  },
  {
   "cell_type": "code",
   "execution_count": 20,
   "id": "700175d3",
   "metadata": {
    "id": "700175d3"
   },
   "outputs": [
    {
     "data": {
      "text/plain": [
       "0.9905311375956878"
      ]
     },
     "execution_count": 20,
     "metadata": {},
     "output_type": "execute_result"
    }
   ],
   "source": [
    "## Relación CIUDAD-COMUNA\n",
    "#Cumplimiento de relaciones dentro de la Base de Datos. Por ejemplo, las comunas de Cali no pueden tomar el valor de Comuna 80.\n",
    "#Las relaciones inter-relación es entre bases de datos\n",
    "ciudad_comuna_error1=sum(BD_cali['COMUNA']=='Comuna 80')\n",
    "\n",
    "ciudad_comuna_consistencia= 1 - (ciudad_comuna_error1/len(BD_cali))\n",
    "ciudad_comuna_consistencia"
   ]
  },
  {
   "cell_type": "code",
   "execution_count": 21,
   "id": "37d7ece3",
   "metadata": {
    "id": "37d7ece3"
   },
   "outputs": [
    {
     "name": "stdout",
     "output_type": "stream",
     "text": [
      "True     108439\n",
      "False        14\n",
      "dtype: int64\n",
      "True     70601\n",
      "False    37853\n",
      "Name: UTILILIDAD_PERDIDA, dtype: int64\n"
     ]
    },
    {
     "data": {
      "text/plain": [
       "0.9998709118235549"
      ]
     },
     "execution_count": 21,
     "metadata": {},
     "output_type": "execute_result"
    }
   ],
   "source": [
    "## Relación PATRIMONIO = ACTIVO - PASIVO\n",
    "\n",
    "#Sacamos los registros donde hay información para las tres variables al tiempo\n",
    "BD_patrimonio=BD[BD['PATRIMONIO'].notna() & BD['TOT_ACTIVOS'].notna() & BD['TOT_PASIVO'].notna()] ##Registros donde hay información para evaluar la ecuación contable\n",
    "\n",
    "patrimonio_calc= BD_patrimonio['TOT_ACTIVOS'] - BD_patrimonio['TOT_PASIVO'] \n",
    "\n",
    "#Revisar si la forma en que calculamos la ecuación contable corresponde al dato que hay en la base\n",
    "\n",
    "compara_patrimonio= BD_patrimonio['PATRIMONIO'] == patrimonio_calc\n",
    "\n",
    "##Formas de revisar cuántos cumplen la condición de la ecuación contable\n",
    "print(compara_patrimonio.value_counts())\n",
    "\n",
    "print((BD['UTILILIDAD_PERDIDA']==0).value_counts())\n",
    "\n",
    "patrimonio_consistencia = sum(compara_patrimonio)/len(patrimonio_calc)\n",
    "patrimonio_consistencia"
   ]
  },
  {
   "cell_type": "markdown",
   "id": "32ec59db",
   "metadata": {
    "id": "32ec59db"
   },
   "source": [
    "### Indicador de calidad - Consistencia"
   ]
  },
  {
   "cell_type": "code",
   "execution_count": 22,
   "id": "05e8a1bd",
   "metadata": {
    "id": "05e8a1bd"
   },
   "outputs": [
    {
     "name": "stdout",
     "output_type": "stream",
     "text": [
      "El indicador de la dimensión CONSISTENCIA por medio del mínimo es: 0.99053\n",
      "El indicador de la dimensión CONSISTENCIA por medio del promedio es: 0.9952\n"
     ]
    }
   ],
   "source": [
    "indicador_consistencia_minimo=min(ciudad_comuna_consistencia,patrimonio_consistencia)\n",
    "indicador_consistencia_promedio= np.mean([ciudad_comuna_consistencia,patrimonio_consistencia])\n",
    "\n",
    "print(f'El indicador de la dimensión CONSISTENCIA por medio del mínimo es: {np.round(indicador_consistencia_minimo,5)}')\n",
    "print(f'El indicador de la dimensión CONSISTENCIA por medio del promedio es: {np.round(indicador_consistencia_promedio,5)}')"
   ]
  },
  {
   "cell_type": "markdown",
   "id": "69892949",
   "metadata": {
    "id": "69892949"
   },
   "source": [
    "## Dimensión Unicidad"
   ]
  },
  {
   "cell_type": "code",
   "execution_count": 23,
   "id": "5a537838",
   "metadata": {
    "id": "5a537838"
   },
   "outputs": [],
   "source": [
    "#Copia de la BD inicial\n",
    "df=BD.copy()\n",
    "df.rename(columns={'Año de FECHA_RENOVACION':'ULTIMO_ANO_RENOVADO',\n",
    "                          'FECHA_MAT_REN':'FECHA_MATRICULA_RENOVACION_HORA',\n",
    "                          'TOT_ACTIVOS':'ACTIVO_TOTAL',\n",
    "                          'UTILILIDAD_PERDIDA': 'UTILILIDAD_OPERACIONAL',\n",
    "                          'VENTAS' : 'INGRESOS_ACTIVIDAD_ORDINARIA',\n",
    "                          'TOT_PASIVO': 'PASIVO_TOTAL',\n",
    "                          'UTILILIDAD_BRUTA': 'RESULTADO_PERIODO',\n",
    "                          'MAT_REN' : 'MATRICULA_RENOVACION'}, \n",
    "                 inplace=True)"
   ]
  },
  {
   "cell_type": "code",
   "execution_count": 24,
   "id": "1ed02991",
   "metadata": {
    "id": "1ed02991"
   },
   "outputs": [],
   "source": [
    "# Se separa la fecha para facilitar el análisis\n",
    "df[['FECHA_MATRICULA_RENOVACION','HORA_FECHA_MAT_REN']] =  df.FECHA_MATRICULA_RENOVACION_HORA.str.split(' ', n=1, expand=True)"
   ]
  },
  {
   "cell_type": "code",
   "execution_count": 25,
   "id": "2613c77a",
   "metadata": {
    "id": "2613c77a"
   },
   "outputs": [],
   "source": [
    "# Se separa día, mes y año para facilitar el análisis\n",
    "df[['DIA','MES', 'ANO']] =  df.FECHA_MATRICULA_RENOVACION.str.split('/', n=3, expand=True)\n",
    "#Se convierte la variable FECHA_MATRICULA_RENOVACION_HORA en datetime para facilitar manupulación de los datos\n",
    "df.FECHA_MATRICULA_RENOVACION_HORA = pd.to_datetime(df.FECHA_MATRICULA_RENOVACION_HORA)"
   ]
  },
  {
   "cell_type": "code",
   "execution_count": 26,
   "id": "9a06ca33",
   "metadata": {
    "id": "9a06ca33"
   },
   "outputs": [],
   "source": [
    "#Se convierte la variable FECHA_MATRICULA en datetime para facilitar manupulación de los datos\n",
    "df.FECHA_MATRICULA = pd.to_datetime(df.FECHA_MATRICULA)"
   ]
  },
  {
   "cell_type": "code",
   "execution_count": 27,
   "id": "45f89102",
   "metadata": {
    "id": "45f89102"
   },
   "outputs": [
    {
     "name": "stdout",
     "output_type": "stream",
     "text": [
      "<class 'pandas.core.frame.DataFrame'>\n",
      "Int64Index: 108454 entries, 81901 to 63007\n",
      "Data columns (total 43 columns):\n",
      " #   Column                           Non-Null Count   Dtype         \n",
      "---  ------                           --------------   -----         \n",
      " 0   MATRICULA                        108454 non-null  object        \n",
      " 1   NIT                              108454 non-null  object        \n",
      " 2   ESTADO_MAT_REN                   108454 non-null  object        \n",
      " 3   MATRICULA_RENOVACION             108454 non-null  object        \n",
      " 4   DESC_CATEGORIA                   108454 non-null  object        \n",
      " 5   ESTADO_ACTUAL                    108454 non-null  object        \n",
      " 6   SECTOR                           108454 non-null  object        \n",
      " 7   RAZON_SOCIAL                     108450 non-null  object        \n",
      " 8   DESC_CIIU                        108454 non-null  object        \n",
      " 9   NOM_ENTE_JURIDICO                108454 non-null  object        \n",
      " 10  DESC_TAMANO                      108454 non-null  object        \n",
      " 11  TAMANO957                        108454 non-null  object        \n",
      " 12  CIUDAD                           108452 non-null  object        \n",
      " 13  ULTIMO_ANO_RENOVADO              108454 non-null  object        \n",
      " 14  FECHA_RENOVACION                 108454 non-null  object        \n",
      " 15  FECHA_MATRICULA                  108452 non-null  datetime64[ns]\n",
      " 16  FECHA_MATRICULA_RENOVACION_HORA  108454 non-null  datetime64[ns]\n",
      " 17  EMAIL                            108446 non-null  object        \n",
      " 18  TELEFONO                         108411 non-null  object        \n",
      " 19  COMUNA                           102628 non-null  object        \n",
      " 20  DIRECCION_COMERCIAL              108444 non-null  object        \n",
      " 21  DESC_CATEGORIA.1                 108454 non-null  object        \n",
      " 22  DESC_TIPO_REGISTRO               108454 non-null  object        \n",
      " 23  PATRIMONIO                       108453 non-null  float64       \n",
      " 24  PERSONAL_OCUPADO                 108154 non-null  float64       \n",
      " 25  ESTABLECIMIENTOS                 108454 non-null  int64         \n",
      " 26  ACTIVO_TOTAL                     108454 non-null  int64         \n",
      " 27  PASIVO_TOTAL                     108453 non-null  float64       \n",
      " 28  UTILILIDAD_OPERACIONAL           108454 non-null  int64         \n",
      " 29  RESULTADO_PERIODO                108453 non-null  float64       \n",
      " 30  INGRESOS_ACTIVIDAD_ORDINARIA     107934 non-null  float64       \n",
      " 31  CONSECUTIVO_PROPIETARIO          108416 non-null  float64       \n",
      " 32  NUM_CONSECUTIVO                  108454 non-null  int64         \n",
      " 33  CODIGO_CIIU                      108454 non-null  object        \n",
      " 34  BARRIO                           102071 non-null  object        \n",
      " 35  REP_LEGAL                        108454 non-null  object        \n",
      " 36  AFILIADO                         108454 non-null  object        \n",
      " 37  PORCENT_EXTRANJERO               48555 non-null   float64       \n",
      " 38  FECHA_MATRICULA_RENOVACION       108454 non-null  object        \n",
      " 39  HORA_FECHA_MAT_REN               108454 non-null  object        \n",
      " 40  DIA                              108454 non-null  object        \n",
      " 41  MES                              108454 non-null  object        \n",
      " 42  ANO                              108454 non-null  object        \n",
      "dtypes: datetime64[ns](2), float64(7), int64(4), object(30)\n",
      "memory usage: 36.4+ MB\n",
      "None\n"
     ]
    },
    {
     "data": {
      "text/html": [
       "<div>\n",
       "<style scoped>\n",
       "    .dataframe tbody tr th:only-of-type {\n",
       "        vertical-align: middle;\n",
       "    }\n",
       "\n",
       "    .dataframe tbody tr th {\n",
       "        vertical-align: top;\n",
       "    }\n",
       "\n",
       "    .dataframe thead th {\n",
       "        text-align: right;\n",
       "    }\n",
       "</style>\n",
       "<table border=\"1\" class=\"dataframe\">\n",
       "  <thead>\n",
       "    <tr style=\"text-align: right;\">\n",
       "      <th></th>\n",
       "      <th>MATRICULA</th>\n",
       "      <th>NIT</th>\n",
       "      <th>ESTADO_MAT_REN</th>\n",
       "      <th>MATRICULA_RENOVACION</th>\n",
       "      <th>DESC_CATEGORIA</th>\n",
       "      <th>ESTADO_ACTUAL</th>\n",
       "      <th>SECTOR</th>\n",
       "      <th>RAZON_SOCIAL</th>\n",
       "      <th>DESC_CIIU</th>\n",
       "      <th>NOM_ENTE_JURIDICO</th>\n",
       "      <th>...</th>\n",
       "      <th>CODIGO_CIIU</th>\n",
       "      <th>BARRIO</th>\n",
       "      <th>REP_LEGAL</th>\n",
       "      <th>AFILIADO</th>\n",
       "      <th>PORCENT_EXTRANJERO</th>\n",
       "      <th>FECHA_MATRICULA_RENOVACION</th>\n",
       "      <th>HORA_FECHA_MAT_REN</th>\n",
       "      <th>DIA</th>\n",
       "      <th>MES</th>\n",
       "      <th>ANO</th>\n",
       "    </tr>\n",
       "  </thead>\n",
       "  <tbody>\n",
       "    <tr>\n",
       "      <th>81901</th>\n",
       "      <td>1140755</td>\n",
       "      <td>1193226317</td>\n",
       "      <td>A</td>\n",
       "      <td>Renovacion</td>\n",
       "      <td>PERSONA NATURAL</td>\n",
       "      <td>CANCELADO</td>\n",
       "      <td>K</td>\n",
       "      <td>ELAGO BOTOTO LUZ ENITH                        ...</td>\n",
       "      <td>ACTIVIDADES DE AGENTES Y CORREDORES DE SEGUROS...</td>\n",
       "      <td>Persona Natural                               ...</td>\n",
       "      <td>...</td>\n",
       "      <td>6621</td>\n",
       "      <td>Jorge Zawadsky</td>\n",
       "      <td>LUZ ENITH ELAGO BOTOTO</td>\n",
       "      <td>N</td>\n",
       "      <td>NaN</td>\n",
       "      <td>1/02/2022</td>\n",
       "      <td>12:00:00 a.m.</td>\n",
       "      <td>1</td>\n",
       "      <td>02</td>\n",
       "      <td>2022</td>\n",
       "    </tr>\n",
       "    <tr>\n",
       "      <th>81867</th>\n",
       "      <td>1140731</td>\n",
       "      <td>1067462430</td>\n",
       "      <td>A</td>\n",
       "      <td>Matricula</td>\n",
       "      <td>PERSONA NATURAL</td>\n",
       "      <td>ACTIVO</td>\n",
       "      <td>G</td>\n",
       "      <td>PAJA URMENDIZ BREIDY ALEXANDER                ...</td>\n",
       "      <td>COMERCIO AL POR MENOR DE PRODUCTOS FARMACÉUTIC...</td>\n",
       "      <td>Persona Natural                               ...</td>\n",
       "      <td>...</td>\n",
       "      <td>4773</td>\n",
       "      <td>Urbanizacion Caney</td>\n",
       "      <td>BREIDY ALEXANDER PAJA URMENDIZ</td>\n",
       "      <td>N</td>\n",
       "      <td>NaN</td>\n",
       "      <td>1/02/2022</td>\n",
       "      <td>12:00:00 a.m.</td>\n",
       "      <td>1</td>\n",
       "      <td>02</td>\n",
       "      <td>2022</td>\n",
       "    </tr>\n",
       "  </tbody>\n",
       "</table>\n",
       "<p>2 rows × 43 columns</p>\n",
       "</div>"
      ],
      "text/plain": [
       "      MATRICULA         NIT ESTADO_MAT_REN MATRICULA_RENOVACION  \\\n",
       "81901   1140755  1193226317              A           Renovacion   \n",
       "81867   1140731  1067462430              A            Matricula   \n",
       "\n",
       "        DESC_CATEGORIA ESTADO_ACTUAL SECTOR  \\\n",
       "81901  PERSONA NATURAL     CANCELADO      K   \n",
       "81867  PERSONA NATURAL        ACTIVO      G   \n",
       "\n",
       "                                            RAZON_SOCIAL  \\\n",
       "81901  ELAGO BOTOTO LUZ ENITH                        ...   \n",
       "81867  PAJA URMENDIZ BREIDY ALEXANDER                ...   \n",
       "\n",
       "                                               DESC_CIIU  \\\n",
       "81901  ACTIVIDADES DE AGENTES Y CORREDORES DE SEGUROS...   \n",
       "81867  COMERCIO AL POR MENOR DE PRODUCTOS FARMACÉUTIC...   \n",
       "\n",
       "                                       NOM_ENTE_JURIDICO  ... CODIGO_CIIU  \\\n",
       "81901  Persona Natural                               ...  ...        6621   \n",
       "81867  Persona Natural                               ...  ...        4773   \n",
       "\n",
       "                   BARRIO                       REP_LEGAL AFILIADO  \\\n",
       "81901      Jorge Zawadsky  LUZ ENITH ELAGO BOTOTO                N   \n",
       "81867  Urbanizacion Caney  BREIDY ALEXANDER PAJA URMENDIZ        N   \n",
       "\n",
       "      PORCENT_EXTRANJERO FECHA_MATRICULA_RENOVACION HORA_FECHA_MAT_REN DIA  \\\n",
       "81901                NaN                  1/02/2022      12:00:00 a.m.   1   \n",
       "81867                NaN                  1/02/2022      12:00:00 a.m.   1   \n",
       "\n",
       "      MES   ANO  \n",
       "81901  02  2022  \n",
       "81867  02  2022  \n",
       "\n",
       "[2 rows x 43 columns]"
      ]
     },
     "execution_count": 27,
     "metadata": {},
     "output_type": "execute_result"
    }
   ],
   "source": [
    "#Se organiza el DataFrame según la fecha del movimiento registrado. Esto facilitará las particiones que se harán de la base de datos\n",
    "df=df.sort_values('FECHA_MATRICULA_RENOVACION_HORA')\n",
    "print(df.info())\n",
    "df.head(2)"
   ]
  },
  {
   "cell_type": "code",
   "execution_count": 30,
   "id": "10c7bf8b",
   "metadata": {
    "id": "10c7bf8b",
    "scrolled": true
   },
   "outputs": [
    {
     "data": {
      "text/html": [
       "<div>\n",
       "<style scoped>\n",
       "    .dataframe tbody tr th:only-of-type {\n",
       "        vertical-align: middle;\n",
       "    }\n",
       "\n",
       "    .dataframe tbody tr th {\n",
       "        vertical-align: top;\n",
       "    }\n",
       "\n",
       "    .dataframe thead th {\n",
       "        text-align: right;\n",
       "    }\n",
       "</style>\n",
       "<table border=\"1\" class=\"dataframe\">\n",
       "  <thead>\n",
       "    <tr style=\"text-align: right;\">\n",
       "      <th></th>\n",
       "      <th>MATRICULA</th>\n",
       "      <th>NIT</th>\n",
       "      <th>MATRICULA_RENOVACION</th>\n",
       "      <th>DESC_CATEGORIA</th>\n",
       "      <th>ESTADO_ACTUAL</th>\n",
       "      <th>SECTOR</th>\n",
       "      <th>RAZON_SOCIAL</th>\n",
       "      <th>DESC_CIIU</th>\n",
       "      <th>NOM_ENTE_JURIDICO</th>\n",
       "      <th>DESC_TAMANO</th>\n",
       "      <th>...</th>\n",
       "      <th>CODIGO_CIIU</th>\n",
       "      <th>BARRIO</th>\n",
       "      <th>REP_LEGAL</th>\n",
       "      <th>AFILIADO</th>\n",
       "      <th>PORCENT_EXTRANJERO</th>\n",
       "      <th>FECHA_MATRICULA_RENOVACION</th>\n",
       "      <th>HORA_FECHA_MAT_REN</th>\n",
       "      <th>DIA</th>\n",
       "      <th>MES</th>\n",
       "      <th>ANO</th>\n",
       "    </tr>\n",
       "    <tr>\n",
       "      <th>ESTADO_MAT_REN</th>\n",
       "      <th></th>\n",
       "      <th></th>\n",
       "      <th></th>\n",
       "      <th></th>\n",
       "      <th></th>\n",
       "      <th></th>\n",
       "      <th></th>\n",
       "      <th></th>\n",
       "      <th></th>\n",
       "      <th></th>\n",
       "      <th></th>\n",
       "      <th></th>\n",
       "      <th></th>\n",
       "      <th></th>\n",
       "      <th></th>\n",
       "      <th></th>\n",
       "      <th></th>\n",
       "      <th></th>\n",
       "      <th></th>\n",
       "      <th></th>\n",
       "      <th></th>\n",
       "    </tr>\n",
       "  </thead>\n",
       "  <tbody>\n",
       "    <tr>\n",
       "      <th>A</th>\n",
       "      <td>93243</td>\n",
       "      <td>93089</td>\n",
       "      <td>2</td>\n",
       "      <td>2</td>\n",
       "      <td>2</td>\n",
       "      <td>20</td>\n",
       "      <td>93163</td>\n",
       "      <td>1120</td>\n",
       "      <td>11</td>\n",
       "      <td>5</td>\n",
       "      <td>...</td>\n",
       "      <td>466</td>\n",
       "      <td>496</td>\n",
       "      <td>87567</td>\n",
       "      <td>2</td>\n",
       "      <td>85</td>\n",
       "      <td>240</td>\n",
       "      <td>33759</td>\n",
       "      <td>31</td>\n",
       "      <td>8</td>\n",
       "      <td>1</td>\n",
       "    </tr>\n",
       "    <tr>\n",
       "      <th>D</th>\n",
       "      <td>187</td>\n",
       "      <td>187</td>\n",
       "      <td>2</td>\n",
       "      <td>2</td>\n",
       "      <td>2</td>\n",
       "      <td>17</td>\n",
       "      <td>187</td>\n",
       "      <td>101</td>\n",
       "      <td>4</td>\n",
       "      <td>4</td>\n",
       "      <td>...</td>\n",
       "      <td>98</td>\n",
       "      <td>59</td>\n",
       "      <td>182</td>\n",
       "      <td>2</td>\n",
       "      <td>2</td>\n",
       "      <td>97</td>\n",
       "      <td>22</td>\n",
       "      <td>30</td>\n",
       "      <td>8</td>\n",
       "      <td>1</td>\n",
       "    </tr>\n",
       "    <tr>\n",
       "      <th>R</th>\n",
       "      <td>49</td>\n",
       "      <td>49</td>\n",
       "      <td>1</td>\n",
       "      <td>2</td>\n",
       "      <td>2</td>\n",
       "      <td>14</td>\n",
       "      <td>49</td>\n",
       "      <td>37</td>\n",
       "      <td>5</td>\n",
       "      <td>4</td>\n",
       "      <td>...</td>\n",
       "      <td>37</td>\n",
       "      <td>31</td>\n",
       "      <td>48</td>\n",
       "      <td>2</td>\n",
       "      <td>2</td>\n",
       "      <td>36</td>\n",
       "      <td>14</td>\n",
       "      <td>22</td>\n",
       "      <td>7</td>\n",
       "      <td>1</td>\n",
       "    </tr>\n",
       "  </tbody>\n",
       "</table>\n",
       "<p>3 rows × 42 columns</p>\n",
       "</div>"
      ],
      "text/plain": [
       "                MATRICULA    NIT  MATRICULA_RENOVACION  DESC_CATEGORIA  \\\n",
       "ESTADO_MAT_REN                                                           \n",
       "A                   93243  93089                     2               2   \n",
       "D                     187    187                     2               2   \n",
       "R                      49     49                     1               2   \n",
       "\n",
       "                ESTADO_ACTUAL  SECTOR  RAZON_SOCIAL  DESC_CIIU  \\\n",
       "ESTADO_MAT_REN                                                   \n",
       "A                           2      20         93163       1120   \n",
       "D                           2      17           187        101   \n",
       "R                           2      14            49         37   \n",
       "\n",
       "                NOM_ENTE_JURIDICO  DESC_TAMANO  ...  CODIGO_CIIU  BARRIO  \\\n",
       "ESTADO_MAT_REN                                  ...                        \n",
       "A                              11            5  ...          466     496   \n",
       "D                               4            4  ...           98      59   \n",
       "R                               5            4  ...           37      31   \n",
       "\n",
       "                REP_LEGAL  AFILIADO  PORCENT_EXTRANJERO  \\\n",
       "ESTADO_MAT_REN                                            \n",
       "A                   87567         2                  85   \n",
       "D                     182         2                   2   \n",
       "R                      48         2                   2   \n",
       "\n",
       "                FECHA_MATRICULA_RENOVACION  HORA_FECHA_MAT_REN  DIA  MES  ANO  \n",
       "ESTADO_MAT_REN                                                                 \n",
       "A                                      240               33759   31    8    1  \n",
       "D                                       97                  22   30    8    1  \n",
       "R                                       36                  14   22    7    1  \n",
       "\n",
       "[3 rows x 42 columns]"
      ]
     },
     "execution_count": 30,
     "metadata": {},
     "output_type": "execute_result"
    }
   ],
   "source": [
    "df.groupby('ESTADO_MAT_REN').nunique()"
   ]
  },
  {
   "cell_type": "code",
   "execution_count": 31,
   "id": "40f3b20f",
   "metadata": {
    "id": "40f3b20f"
   },
   "outputs": [
    {
     "name": "stdout",
     "output_type": "stream",
     "text": [
      "El número de registros duplicados con todas las columnas iguales son:\n",
      "0\n"
     ]
    }
   ],
   "source": [
    "# Para obtener los duplicados EXCEPTO la primera observación revisando todas las columnas \n",
    "duplicados = df[df.duplicated()]\n",
    "print('El número de registros duplicados con todas las columnas iguales son:')\n",
    "print (duplicados.MATRICULA.count())"
   ]
  },
  {
   "cell_type": "code",
   "execution_count": 32,
   "id": "c2112908",
   "metadata": {
    "id": "c2112908"
   },
   "outputs": [
    {
     "data": {
      "text/plain": [
       "Renovacion    93464\n",
       "Matricula     14990\n",
       "Name: MATRICULA_RENOVACION, dtype: int64"
      ]
     },
     "execution_count": 32,
     "metadata": {},
     "output_type": "execute_result"
    }
   ],
   "source": [
    "# Antes de partir la base de datos. Se hace un conteo para saber cuantas Matriculas y Renovaciones se tienen en la base sin eliminar duplicados\n",
    "df.MATRICULA_RENOVACION.value_counts()"
   ]
  },
  {
   "cell_type": "code",
   "execution_count": 33,
   "id": "d6cd9aaa",
   "metadata": {
    "id": "d6cd9aaa"
   },
   "outputs": [
    {
     "name": "stdout",
     "output_type": "stream",
     "text": [
      "El número de registros en la BD para Matriculas es:\n",
      "Matricula    14990\n",
      "Name: MATRICULA_RENOVACION, dtype: int64\n",
      "El número de registros en la BD para Renovaciones:\n",
      "Renovacion    93464\n",
      "Name: MATRICULA_RENOVACION, dtype: int64\n"
     ]
    }
   ],
   "source": [
    "# Ahora es necesario partir la base de datos en dos para hacer la correspondiente limpieza. Se requieren tratar las empresas Matriculadas y Renovadas diferenciadas por su fecha de registro\n",
    "df_matricula = df.loc[df['MATRICULA_RENOVACION'].isin(['Matricula'])]\n",
    "df_renovacion = df.loc[df['MATRICULA_RENOVACION'].isin(['Renovacion'])]\n",
    "print('El número de registros en la BD para Matriculas es:', df_matricula.MATRICULA_RENOVACION.value_counts(), sep='\\n')\n",
    "print('El número de registros en la BD para Renovaciones:', df_renovacion.MATRICULA_RENOVACION.value_counts(), sep='\\n')"
   ]
  },
  {
   "cell_type": "code",
   "execution_count": 34,
   "id": "8b48efe0",
   "metadata": {
    "id": "8b48efe0"
   },
   "outputs": [
    {
     "name": "stderr",
     "output_type": "stream",
     "text": [
      "C:\\Users\\ladoming\\Anaconda3\\lib\\site-packages\\pandas\\core\\tools\\datetimes.py:1047: UserWarning: Parsing '13/01/2022' in DD/MM/YYYY format. Provide format or specify infer_datetime_format=True for consistent parsing.\n",
      "  cache_array = _maybe_cache(arg, format, cache, convert_listlike)\n",
      "C:\\Users\\ladoming\\Anaconda3\\lib\\site-packages\\pandas\\core\\tools\\datetimes.py:1047: UserWarning: Parsing '14/01/2022' in DD/MM/YYYY format. Provide format or specify infer_datetime_format=True for consistent parsing.\n",
      "  cache_array = _maybe_cache(arg, format, cache, convert_listlike)\n",
      "C:\\Users\\ladoming\\Anaconda3\\lib\\site-packages\\pandas\\core\\tools\\datetimes.py:1047: UserWarning: Parsing '15/01/2022' in DD/MM/YYYY format. Provide format or specify infer_datetime_format=True for consistent parsing.\n",
      "  cache_array = _maybe_cache(arg, format, cache, convert_listlike)\n",
      "C:\\Users\\ladoming\\Anaconda3\\lib\\site-packages\\pandas\\core\\tools\\datetimes.py:1047: UserWarning: Parsing '16/01/2022' in DD/MM/YYYY format. Provide format or specify infer_datetime_format=True for consistent parsing.\n",
      "  cache_array = _maybe_cache(arg, format, cache, convert_listlike)\n",
      "C:\\Users\\ladoming\\Anaconda3\\lib\\site-packages\\pandas\\core\\tools\\datetimes.py:1047: UserWarning: Parsing '17/01/2022' in DD/MM/YYYY format. Provide format or specify infer_datetime_format=True for consistent parsing.\n",
      "  cache_array = _maybe_cache(arg, format, cache, convert_listlike)\n",
      "C:\\Users\\ladoming\\Anaconda3\\lib\\site-packages\\pandas\\core\\tools\\datetimes.py:1047: UserWarning: Parsing '18/01/2022' in DD/MM/YYYY format. Provide format or specify infer_datetime_format=True for consistent parsing.\n",
      "  cache_array = _maybe_cache(arg, format, cache, convert_listlike)\n",
      "C:\\Users\\ladoming\\Anaconda3\\lib\\site-packages\\pandas\\core\\tools\\datetimes.py:1047: UserWarning: Parsing '19/01/2022' in DD/MM/YYYY format. Provide format or specify infer_datetime_format=True for consistent parsing.\n",
      "  cache_array = _maybe_cache(arg, format, cache, convert_listlike)\n",
      "C:\\Users\\ladoming\\Anaconda3\\lib\\site-packages\\pandas\\core\\tools\\datetimes.py:1047: UserWarning: Parsing '20/01/2022' in DD/MM/YYYY format. Provide format or specify infer_datetime_format=True for consistent parsing.\n",
      "  cache_array = _maybe_cache(arg, format, cache, convert_listlike)\n",
      "C:\\Users\\ladoming\\Anaconda3\\lib\\site-packages\\pandas\\core\\tools\\datetimes.py:1047: UserWarning: Parsing '21/01/2022' in DD/MM/YYYY format. Provide format or specify infer_datetime_format=True for consistent parsing.\n",
      "  cache_array = _maybe_cache(arg, format, cache, convert_listlike)\n",
      "C:\\Users\\ladoming\\Anaconda3\\lib\\site-packages\\pandas\\core\\tools\\datetimes.py:1047: UserWarning: Parsing '22/01/2022' in DD/MM/YYYY format. Provide format or specify infer_datetime_format=True for consistent parsing.\n",
      "  cache_array = _maybe_cache(arg, format, cache, convert_listlike)\n",
      "C:\\Users\\ladoming\\Anaconda3\\lib\\site-packages\\pandas\\core\\tools\\datetimes.py:1047: UserWarning: Parsing '23/01/2022' in DD/MM/YYYY format. Provide format or specify infer_datetime_format=True for consistent parsing.\n",
      "  cache_array = _maybe_cache(arg, format, cache, convert_listlike)\n",
      "C:\\Users\\ladoming\\Anaconda3\\lib\\site-packages\\pandas\\core\\tools\\datetimes.py:1047: UserWarning: Parsing '24/01/2022' in DD/MM/YYYY format. Provide format or specify infer_datetime_format=True for consistent parsing.\n",
      "  cache_array = _maybe_cache(arg, format, cache, convert_listlike)\n",
      "C:\\Users\\ladoming\\Anaconda3\\lib\\site-packages\\pandas\\core\\tools\\datetimes.py:1047: UserWarning: Parsing '25/01/2022' in DD/MM/YYYY format. Provide format or specify infer_datetime_format=True for consistent parsing.\n",
      "  cache_array = _maybe_cache(arg, format, cache, convert_listlike)\n",
      "C:\\Users\\ladoming\\Anaconda3\\lib\\site-packages\\pandas\\core\\tools\\datetimes.py:1047: UserWarning: Parsing '26/01/2022' in DD/MM/YYYY format. Provide format or specify infer_datetime_format=True for consistent parsing.\n",
      "  cache_array = _maybe_cache(arg, format, cache, convert_listlike)\n",
      "C:\\Users\\ladoming\\Anaconda3\\lib\\site-packages\\pandas\\core\\tools\\datetimes.py:1047: UserWarning: Parsing '27/01/2022' in DD/MM/YYYY format. Provide format or specify infer_datetime_format=True for consistent parsing.\n",
      "  cache_array = _maybe_cache(arg, format, cache, convert_listlike)\n",
      "C:\\Users\\ladoming\\Anaconda3\\lib\\site-packages\\pandas\\core\\tools\\datetimes.py:1047: UserWarning: Parsing '28/01/2022' in DD/MM/YYYY format. Provide format or specify infer_datetime_format=True for consistent parsing.\n",
      "  cache_array = _maybe_cache(arg, format, cache, convert_listlike)\n",
      "C:\\Users\\ladoming\\Anaconda3\\lib\\site-packages\\pandas\\core\\tools\\datetimes.py:1047: UserWarning: Parsing '29/01/2022' in DD/MM/YYYY format. Provide format or specify infer_datetime_format=True for consistent parsing.\n",
      "  cache_array = _maybe_cache(arg, format, cache, convert_listlike)\n",
      "C:\\Users\\ladoming\\Anaconda3\\lib\\site-packages\\pandas\\core\\tools\\datetimes.py:1047: UserWarning: Parsing '30/01/2022' in DD/MM/YYYY format. Provide format or specify infer_datetime_format=True for consistent parsing.\n",
      "  cache_array = _maybe_cache(arg, format, cache, convert_listlike)\n",
      "C:\\Users\\ladoming\\Anaconda3\\lib\\site-packages\\pandas\\core\\tools\\datetimes.py:1047: UserWarning: Parsing '31/01/2022' in DD/MM/YYYY format. Provide format or specify infer_datetime_format=True for consistent parsing.\n",
      "  cache_array = _maybe_cache(arg, format, cache, convert_listlike)\n",
      "C:\\Users\\ladoming\\Anaconda3\\lib\\site-packages\\pandas\\core\\tools\\datetimes.py:1047: UserWarning: Parsing '13/02/2022' in DD/MM/YYYY format. Provide format or specify infer_datetime_format=True for consistent parsing.\n",
      "  cache_array = _maybe_cache(arg, format, cache, convert_listlike)\n",
      "C:\\Users\\ladoming\\Anaconda3\\lib\\site-packages\\pandas\\core\\tools\\datetimes.py:1047: UserWarning: Parsing '14/02/2022' in DD/MM/YYYY format. Provide format or specify infer_datetime_format=True for consistent parsing.\n",
      "  cache_array = _maybe_cache(arg, format, cache, convert_listlike)\n",
      "C:\\Users\\ladoming\\Anaconda3\\lib\\site-packages\\pandas\\core\\tools\\datetimes.py:1047: UserWarning: Parsing '15/02/2022' in DD/MM/YYYY format. Provide format or specify infer_datetime_format=True for consistent parsing.\n",
      "  cache_array = _maybe_cache(arg, format, cache, convert_listlike)\n",
      "C:\\Users\\ladoming\\Anaconda3\\lib\\site-packages\\pandas\\core\\tools\\datetimes.py:1047: UserWarning: Parsing '16/02/2022' in DD/MM/YYYY format. Provide format or specify infer_datetime_format=True for consistent parsing.\n",
      "  cache_array = _maybe_cache(arg, format, cache, convert_listlike)\n",
      "C:\\Users\\ladoming\\Anaconda3\\lib\\site-packages\\pandas\\core\\tools\\datetimes.py:1047: UserWarning: Parsing '17/02/2022' in DD/MM/YYYY format. Provide format or specify infer_datetime_format=True for consistent parsing.\n",
      "  cache_array = _maybe_cache(arg, format, cache, convert_listlike)\n",
      "C:\\Users\\ladoming\\Anaconda3\\lib\\site-packages\\pandas\\core\\tools\\datetimes.py:1047: UserWarning: Parsing '18/02/2022' in DD/MM/YYYY format. Provide format or specify infer_datetime_format=True for consistent parsing.\n",
      "  cache_array = _maybe_cache(arg, format, cache, convert_listlike)\n",
      "C:\\Users\\ladoming\\Anaconda3\\lib\\site-packages\\pandas\\core\\tools\\datetimes.py:1047: UserWarning: Parsing '19/02/2022' in DD/MM/YYYY format. Provide format or specify infer_datetime_format=True for consistent parsing.\n",
      "  cache_array = _maybe_cache(arg, format, cache, convert_listlike)\n",
      "C:\\Users\\ladoming\\Anaconda3\\lib\\site-packages\\pandas\\core\\tools\\datetimes.py:1047: UserWarning: Parsing '20/02/2022' in DD/MM/YYYY format. Provide format or specify infer_datetime_format=True for consistent parsing.\n",
      "  cache_array = _maybe_cache(arg, format, cache, convert_listlike)\n",
      "C:\\Users\\ladoming\\Anaconda3\\lib\\site-packages\\pandas\\core\\tools\\datetimes.py:1047: UserWarning: Parsing '21/02/2022' in DD/MM/YYYY format. Provide format or specify infer_datetime_format=True for consistent parsing.\n",
      "  cache_array = _maybe_cache(arg, format, cache, convert_listlike)\n",
      "C:\\Users\\ladoming\\Anaconda3\\lib\\site-packages\\pandas\\core\\tools\\datetimes.py:1047: UserWarning: Parsing '22/02/2022' in DD/MM/YYYY format. Provide format or specify infer_datetime_format=True for consistent parsing.\n",
      "  cache_array = _maybe_cache(arg, format, cache, convert_listlike)\n",
      "C:\\Users\\ladoming\\Anaconda3\\lib\\site-packages\\pandas\\core\\tools\\datetimes.py:1047: UserWarning: Parsing '23/02/2022' in DD/MM/YYYY format. Provide format or specify infer_datetime_format=True for consistent parsing.\n",
      "  cache_array = _maybe_cache(arg, format, cache, convert_listlike)\n",
      "C:\\Users\\ladoming\\Anaconda3\\lib\\site-packages\\pandas\\core\\tools\\datetimes.py:1047: UserWarning: Parsing '24/02/2022' in DD/MM/YYYY format. Provide format or specify infer_datetime_format=True for consistent parsing.\n",
      "  cache_array = _maybe_cache(arg, format, cache, convert_listlike)\n",
      "C:\\Users\\ladoming\\Anaconda3\\lib\\site-packages\\pandas\\core\\tools\\datetimes.py:1047: UserWarning: Parsing '25/02/2022' in DD/MM/YYYY format. Provide format or specify infer_datetime_format=True for consistent parsing.\n",
      "  cache_array = _maybe_cache(arg, format, cache, convert_listlike)\n",
      "C:\\Users\\ladoming\\Anaconda3\\lib\\site-packages\\pandas\\core\\tools\\datetimes.py:1047: UserWarning: Parsing '26/02/2022' in DD/MM/YYYY format. Provide format or specify infer_datetime_format=True for consistent parsing.\n",
      "  cache_array = _maybe_cache(arg, format, cache, convert_listlike)\n",
      "C:\\Users\\ladoming\\Anaconda3\\lib\\site-packages\\pandas\\core\\tools\\datetimes.py:1047: UserWarning: Parsing '27/02/2022' in DD/MM/YYYY format. Provide format or specify infer_datetime_format=True for consistent parsing.\n",
      "  cache_array = _maybe_cache(arg, format, cache, convert_listlike)\n",
      "C:\\Users\\ladoming\\Anaconda3\\lib\\site-packages\\pandas\\core\\tools\\datetimes.py:1047: UserWarning: Parsing '28/02/2022' in DD/MM/YYYY format. Provide format or specify infer_datetime_format=True for consistent parsing.\n",
      "  cache_array = _maybe_cache(arg, format, cache, convert_listlike)\n",
      "C:\\Users\\ladoming\\Anaconda3\\lib\\site-packages\\pandas\\core\\tools\\datetimes.py:1047: UserWarning: Parsing '13/03/2022' in DD/MM/YYYY format. Provide format or specify infer_datetime_format=True for consistent parsing.\n",
      "  cache_array = _maybe_cache(arg, format, cache, convert_listlike)\n",
      "C:\\Users\\ladoming\\Anaconda3\\lib\\site-packages\\pandas\\core\\tools\\datetimes.py:1047: UserWarning: Parsing '14/03/2022' in DD/MM/YYYY format. Provide format or specify infer_datetime_format=True for consistent parsing.\n",
      "  cache_array = _maybe_cache(arg, format, cache, convert_listlike)\n",
      "C:\\Users\\ladoming\\Anaconda3\\lib\\site-packages\\pandas\\core\\tools\\datetimes.py:1047: UserWarning: Parsing '15/03/2022' in DD/MM/YYYY format. Provide format or specify infer_datetime_format=True for consistent parsing.\n",
      "  cache_array = _maybe_cache(arg, format, cache, convert_listlike)\n",
      "C:\\Users\\ladoming\\Anaconda3\\lib\\site-packages\\pandas\\core\\tools\\datetimes.py:1047: UserWarning: Parsing '16/03/2022' in DD/MM/YYYY format. Provide format or specify infer_datetime_format=True for consistent parsing.\n",
      "  cache_array = _maybe_cache(arg, format, cache, convert_listlike)\n",
      "C:\\Users\\ladoming\\Anaconda3\\lib\\site-packages\\pandas\\core\\tools\\datetimes.py:1047: UserWarning: Parsing '17/03/2022' in DD/MM/YYYY format. Provide format or specify infer_datetime_format=True for consistent parsing.\n",
      "  cache_array = _maybe_cache(arg, format, cache, convert_listlike)\n",
      "C:\\Users\\ladoming\\Anaconda3\\lib\\site-packages\\pandas\\core\\tools\\datetimes.py:1047: UserWarning: Parsing '18/03/2022' in DD/MM/YYYY format. Provide format or specify infer_datetime_format=True for consistent parsing.\n",
      "  cache_array = _maybe_cache(arg, format, cache, convert_listlike)\n",
      "C:\\Users\\ladoming\\Anaconda3\\lib\\site-packages\\pandas\\core\\tools\\datetimes.py:1047: UserWarning: Parsing '19/03/2022' in DD/MM/YYYY format. Provide format or specify infer_datetime_format=True for consistent parsing.\n",
      "  cache_array = _maybe_cache(arg, format, cache, convert_listlike)\n",
      "C:\\Users\\ladoming\\Anaconda3\\lib\\site-packages\\pandas\\core\\tools\\datetimes.py:1047: UserWarning: Parsing '20/03/2022' in DD/MM/YYYY format. Provide format or specify infer_datetime_format=True for consistent parsing.\n",
      "  cache_array = _maybe_cache(arg, format, cache, convert_listlike)\n",
      "C:\\Users\\ladoming\\Anaconda3\\lib\\site-packages\\pandas\\core\\tools\\datetimes.py:1047: UserWarning: Parsing '21/03/2022' in DD/MM/YYYY format. Provide format or specify infer_datetime_format=True for consistent parsing.\n",
      "  cache_array = _maybe_cache(arg, format, cache, convert_listlike)\n",
      "C:\\Users\\ladoming\\Anaconda3\\lib\\site-packages\\pandas\\core\\tools\\datetimes.py:1047: UserWarning: Parsing '22/03/2022' in DD/MM/YYYY format. Provide format or specify infer_datetime_format=True for consistent parsing.\n",
      "  cache_array = _maybe_cache(arg, format, cache, convert_listlike)\n",
      "C:\\Users\\ladoming\\Anaconda3\\lib\\site-packages\\pandas\\core\\tools\\datetimes.py:1047: UserWarning: Parsing '23/03/2022' in DD/MM/YYYY format. Provide format or specify infer_datetime_format=True for consistent parsing.\n",
      "  cache_array = _maybe_cache(arg, format, cache, convert_listlike)\n",
      "C:\\Users\\ladoming\\Anaconda3\\lib\\site-packages\\pandas\\core\\tools\\datetimes.py:1047: UserWarning: Parsing '24/03/2022' in DD/MM/YYYY format. Provide format or specify infer_datetime_format=True for consistent parsing.\n",
      "  cache_array = _maybe_cache(arg, format, cache, convert_listlike)\n",
      "C:\\Users\\ladoming\\Anaconda3\\lib\\site-packages\\pandas\\core\\tools\\datetimes.py:1047: UserWarning: Parsing '25/03/2022' in DD/MM/YYYY format. Provide format or specify infer_datetime_format=True for consistent parsing.\n",
      "  cache_array = _maybe_cache(arg, format, cache, convert_listlike)\n",
      "C:\\Users\\ladoming\\Anaconda3\\lib\\site-packages\\pandas\\core\\tools\\datetimes.py:1047: UserWarning: Parsing '26/03/2022' in DD/MM/YYYY format. Provide format or specify infer_datetime_format=True for consistent parsing.\n",
      "  cache_array = _maybe_cache(arg, format, cache, convert_listlike)\n",
      "C:\\Users\\ladoming\\Anaconda3\\lib\\site-packages\\pandas\\core\\tools\\datetimes.py:1047: UserWarning: Parsing '27/03/2022' in DD/MM/YYYY format. Provide format or specify infer_datetime_format=True for consistent parsing.\n",
      "  cache_array = _maybe_cache(arg, format, cache, convert_listlike)\n",
      "C:\\Users\\ladoming\\Anaconda3\\lib\\site-packages\\pandas\\core\\tools\\datetimes.py:1047: UserWarning: Parsing '28/03/2022' in DD/MM/YYYY format. Provide format or specify infer_datetime_format=True for consistent parsing.\n",
      "  cache_array = _maybe_cache(arg, format, cache, convert_listlike)\n",
      "C:\\Users\\ladoming\\Anaconda3\\lib\\site-packages\\pandas\\core\\tools\\datetimes.py:1047: UserWarning: Parsing '29/03/2022' in DD/MM/YYYY format. Provide format or specify infer_datetime_format=True for consistent parsing.\n",
      "  cache_array = _maybe_cache(arg, format, cache, convert_listlike)\n",
      "C:\\Users\\ladoming\\Anaconda3\\lib\\site-packages\\pandas\\core\\tools\\datetimes.py:1047: UserWarning: Parsing '30/03/2022' in DD/MM/YYYY format. Provide format or specify infer_datetime_format=True for consistent parsing.\n",
      "  cache_array = _maybe_cache(arg, format, cache, convert_listlike)\n",
      "C:\\Users\\ladoming\\Anaconda3\\lib\\site-packages\\pandas\\core\\tools\\datetimes.py:1047: UserWarning: Parsing '31/03/2022' in DD/MM/YYYY format. Provide format or specify infer_datetime_format=True for consistent parsing.\n",
      "  cache_array = _maybe_cache(arg, format, cache, convert_listlike)\n",
      "C:\\Users\\ladoming\\Anaconda3\\lib\\site-packages\\pandas\\core\\tools\\datetimes.py:1047: UserWarning: Parsing '13/04/2022' in DD/MM/YYYY format. Provide format or specify infer_datetime_format=True for consistent parsing.\n",
      "  cache_array = _maybe_cache(arg, format, cache, convert_listlike)\n",
      "C:\\Users\\ladoming\\Anaconda3\\lib\\site-packages\\pandas\\core\\tools\\datetimes.py:1047: UserWarning: Parsing '14/04/2022' in DD/MM/YYYY format. Provide format or specify infer_datetime_format=True for consistent parsing.\n",
      "  cache_array = _maybe_cache(arg, format, cache, convert_listlike)\n",
      "C:\\Users\\ladoming\\Anaconda3\\lib\\site-packages\\pandas\\core\\tools\\datetimes.py:1047: UserWarning: Parsing '15/04/2022' in DD/MM/YYYY format. Provide format or specify infer_datetime_format=True for consistent parsing.\n",
      "  cache_array = _maybe_cache(arg, format, cache, convert_listlike)\n",
      "C:\\Users\\ladoming\\Anaconda3\\lib\\site-packages\\pandas\\core\\tools\\datetimes.py:1047: UserWarning: Parsing '16/04/2022' in DD/MM/YYYY format. Provide format or specify infer_datetime_format=True for consistent parsing.\n",
      "  cache_array = _maybe_cache(arg, format, cache, convert_listlike)\n",
      "C:\\Users\\ladoming\\Anaconda3\\lib\\site-packages\\pandas\\core\\tools\\datetimes.py:1047: UserWarning: Parsing '17/04/2022' in DD/MM/YYYY format. Provide format or specify infer_datetime_format=True for consistent parsing.\n",
      "  cache_array = _maybe_cache(arg, format, cache, convert_listlike)\n",
      "C:\\Users\\ladoming\\Anaconda3\\lib\\site-packages\\pandas\\core\\tools\\datetimes.py:1047: UserWarning: Parsing '18/04/2022' in DD/MM/YYYY format. Provide format or specify infer_datetime_format=True for consistent parsing.\n",
      "  cache_array = _maybe_cache(arg, format, cache, convert_listlike)\n",
      "C:\\Users\\ladoming\\Anaconda3\\lib\\site-packages\\pandas\\core\\tools\\datetimes.py:1047: UserWarning: Parsing '19/04/2022' in DD/MM/YYYY format. Provide format or specify infer_datetime_format=True for consistent parsing.\n",
      "  cache_array = _maybe_cache(arg, format, cache, convert_listlike)\n",
      "C:\\Users\\ladoming\\Anaconda3\\lib\\site-packages\\pandas\\core\\tools\\datetimes.py:1047: UserWarning: Parsing '20/04/2022' in DD/MM/YYYY format. Provide format or specify infer_datetime_format=True for consistent parsing.\n",
      "  cache_array = _maybe_cache(arg, format, cache, convert_listlike)\n",
      "C:\\Users\\ladoming\\Anaconda3\\lib\\site-packages\\pandas\\core\\tools\\datetimes.py:1047: UserWarning: Parsing '21/04/2022' in DD/MM/YYYY format. Provide format or specify infer_datetime_format=True for consistent parsing.\n",
      "  cache_array = _maybe_cache(arg, format, cache, convert_listlike)\n",
      "C:\\Users\\ladoming\\Anaconda3\\lib\\site-packages\\pandas\\core\\tools\\datetimes.py:1047: UserWarning: Parsing '22/04/2022' in DD/MM/YYYY format. Provide format or specify infer_datetime_format=True for consistent parsing.\n",
      "  cache_array = _maybe_cache(arg, format, cache, convert_listlike)\n",
      "C:\\Users\\ladoming\\Anaconda3\\lib\\site-packages\\pandas\\core\\tools\\datetimes.py:1047: UserWarning: Parsing '23/04/2022' in DD/MM/YYYY format. Provide format or specify infer_datetime_format=True for consistent parsing.\n",
      "  cache_array = _maybe_cache(arg, format, cache, convert_listlike)\n",
      "C:\\Users\\ladoming\\Anaconda3\\lib\\site-packages\\pandas\\core\\tools\\datetimes.py:1047: UserWarning: Parsing '24/04/2022' in DD/MM/YYYY format. Provide format or specify infer_datetime_format=True for consistent parsing.\n",
      "  cache_array = _maybe_cache(arg, format, cache, convert_listlike)\n",
      "C:\\Users\\ladoming\\Anaconda3\\lib\\site-packages\\pandas\\core\\tools\\datetimes.py:1047: UserWarning: Parsing '25/04/2022' in DD/MM/YYYY format. Provide format or specify infer_datetime_format=True for consistent parsing.\n",
      "  cache_array = _maybe_cache(arg, format, cache, convert_listlike)\n",
      "C:\\Users\\ladoming\\Anaconda3\\lib\\site-packages\\pandas\\core\\tools\\datetimes.py:1047: UserWarning: Parsing '26/04/2022' in DD/MM/YYYY format. Provide format or specify infer_datetime_format=True for consistent parsing.\n",
      "  cache_array = _maybe_cache(arg, format, cache, convert_listlike)\n",
      "C:\\Users\\ladoming\\Anaconda3\\lib\\site-packages\\pandas\\core\\tools\\datetimes.py:1047: UserWarning: Parsing '27/04/2022' in DD/MM/YYYY format. Provide format or specify infer_datetime_format=True for consistent parsing.\n",
      "  cache_array = _maybe_cache(arg, format, cache, convert_listlike)\n",
      "C:\\Users\\ladoming\\Anaconda3\\lib\\site-packages\\pandas\\core\\tools\\datetimes.py:1047: UserWarning: Parsing '28/04/2022' in DD/MM/YYYY format. Provide format or specify infer_datetime_format=True for consistent parsing.\n",
      "  cache_array = _maybe_cache(arg, format, cache, convert_listlike)\n",
      "C:\\Users\\ladoming\\Anaconda3\\lib\\site-packages\\pandas\\core\\tools\\datetimes.py:1047: UserWarning: Parsing '29/04/2022' in DD/MM/YYYY format. Provide format or specify infer_datetime_format=True for consistent parsing.\n",
      "  cache_array = _maybe_cache(arg, format, cache, convert_listlike)\n",
      "C:\\Users\\ladoming\\Anaconda3\\lib\\site-packages\\pandas\\core\\tools\\datetimes.py:1047: UserWarning: Parsing '30/04/2022' in DD/MM/YYYY format. Provide format or specify infer_datetime_format=True for consistent parsing.\n",
      "  cache_array = _maybe_cache(arg, format, cache, convert_listlike)\n",
      "C:\\Users\\ladoming\\Anaconda3\\lib\\site-packages\\pandas\\core\\tools\\datetimes.py:1047: UserWarning: Parsing '13/05/2022' in DD/MM/YYYY format. Provide format or specify infer_datetime_format=True for consistent parsing.\n",
      "  cache_array = _maybe_cache(arg, format, cache, convert_listlike)\n",
      "C:\\Users\\ladoming\\Anaconda3\\lib\\site-packages\\pandas\\core\\tools\\datetimes.py:1047: UserWarning: Parsing '14/05/2022' in DD/MM/YYYY format. Provide format or specify infer_datetime_format=True for consistent parsing.\n",
      "  cache_array = _maybe_cache(arg, format, cache, convert_listlike)\n",
      "C:\\Users\\ladoming\\Anaconda3\\lib\\site-packages\\pandas\\core\\tools\\datetimes.py:1047: UserWarning: Parsing '15/05/2022' in DD/MM/YYYY format. Provide format or specify infer_datetime_format=True for consistent parsing.\n",
      "  cache_array = _maybe_cache(arg, format, cache, convert_listlike)\n",
      "C:\\Users\\ladoming\\Anaconda3\\lib\\site-packages\\pandas\\core\\tools\\datetimes.py:1047: UserWarning: Parsing '16/05/2022' in DD/MM/YYYY format. Provide format or specify infer_datetime_format=True for consistent parsing.\n",
      "  cache_array = _maybe_cache(arg, format, cache, convert_listlike)\n",
      "C:\\Users\\ladoming\\Anaconda3\\lib\\site-packages\\pandas\\core\\tools\\datetimes.py:1047: UserWarning: Parsing '17/05/2022' in DD/MM/YYYY format. Provide format or specify infer_datetime_format=True for consistent parsing.\n",
      "  cache_array = _maybe_cache(arg, format, cache, convert_listlike)\n",
      "C:\\Users\\ladoming\\Anaconda3\\lib\\site-packages\\pandas\\core\\tools\\datetimes.py:1047: UserWarning: Parsing '18/05/2022' in DD/MM/YYYY format. Provide format or specify infer_datetime_format=True for consistent parsing.\n",
      "  cache_array = _maybe_cache(arg, format, cache, convert_listlike)\n",
      "C:\\Users\\ladoming\\Anaconda3\\lib\\site-packages\\pandas\\core\\tools\\datetimes.py:1047: UserWarning: Parsing '19/05/2022' in DD/MM/YYYY format. Provide format or specify infer_datetime_format=True for consistent parsing.\n",
      "  cache_array = _maybe_cache(arg, format, cache, convert_listlike)\n",
      "C:\\Users\\ladoming\\Anaconda3\\lib\\site-packages\\pandas\\core\\tools\\datetimes.py:1047: UserWarning: Parsing '20/05/2022' in DD/MM/YYYY format. Provide format or specify infer_datetime_format=True for consistent parsing.\n",
      "  cache_array = _maybe_cache(arg, format, cache, convert_listlike)\n",
      "C:\\Users\\ladoming\\Anaconda3\\lib\\site-packages\\pandas\\core\\tools\\datetimes.py:1047: UserWarning: Parsing '21/05/2022' in DD/MM/YYYY format. Provide format or specify infer_datetime_format=True for consistent parsing.\n",
      "  cache_array = _maybe_cache(arg, format, cache, convert_listlike)\n",
      "C:\\Users\\ladoming\\Anaconda3\\lib\\site-packages\\pandas\\core\\tools\\datetimes.py:1047: UserWarning: Parsing '22/05/2022' in DD/MM/YYYY format. Provide format or specify infer_datetime_format=True for consistent parsing.\n",
      "  cache_array = _maybe_cache(arg, format, cache, convert_listlike)\n",
      "C:\\Users\\ladoming\\Anaconda3\\lib\\site-packages\\pandas\\core\\tools\\datetimes.py:1047: UserWarning: Parsing '23/05/2022' in DD/MM/YYYY format. Provide format or specify infer_datetime_format=True for consistent parsing.\n",
      "  cache_array = _maybe_cache(arg, format, cache, convert_listlike)\n",
      "C:\\Users\\ladoming\\Anaconda3\\lib\\site-packages\\pandas\\core\\tools\\datetimes.py:1047: UserWarning: Parsing '24/05/2022' in DD/MM/YYYY format. Provide format or specify infer_datetime_format=True for consistent parsing.\n",
      "  cache_array = _maybe_cache(arg, format, cache, convert_listlike)\n",
      "C:\\Users\\ladoming\\Anaconda3\\lib\\site-packages\\pandas\\core\\tools\\datetimes.py:1047: UserWarning: Parsing '25/05/2022' in DD/MM/YYYY format. Provide format or specify infer_datetime_format=True for consistent parsing.\n",
      "  cache_array = _maybe_cache(arg, format, cache, convert_listlike)\n",
      "C:\\Users\\ladoming\\Anaconda3\\lib\\site-packages\\pandas\\core\\tools\\datetimes.py:1047: UserWarning: Parsing '26/05/2022' in DD/MM/YYYY format. Provide format or specify infer_datetime_format=True for consistent parsing.\n",
      "  cache_array = _maybe_cache(arg, format, cache, convert_listlike)\n",
      "C:\\Users\\ladoming\\Anaconda3\\lib\\site-packages\\pandas\\core\\tools\\datetimes.py:1047: UserWarning: Parsing '27/05/2022' in DD/MM/YYYY format. Provide format or specify infer_datetime_format=True for consistent parsing.\n",
      "  cache_array = _maybe_cache(arg, format, cache, convert_listlike)\n",
      "C:\\Users\\ladoming\\Anaconda3\\lib\\site-packages\\pandas\\core\\tools\\datetimes.py:1047: UserWarning: Parsing '28/05/2022' in DD/MM/YYYY format. Provide format or specify infer_datetime_format=True for consistent parsing.\n",
      "  cache_array = _maybe_cache(arg, format, cache, convert_listlike)\n",
      "C:\\Users\\ladoming\\Anaconda3\\lib\\site-packages\\pandas\\core\\tools\\datetimes.py:1047: UserWarning: Parsing '29/05/2022' in DD/MM/YYYY format. Provide format or specify infer_datetime_format=True for consistent parsing.\n",
      "  cache_array = _maybe_cache(arg, format, cache, convert_listlike)\n",
      "C:\\Users\\ladoming\\Anaconda3\\lib\\site-packages\\pandas\\core\\tools\\datetimes.py:1047: UserWarning: Parsing '31/05/2022' in DD/MM/YYYY format. Provide format or specify infer_datetime_format=True for consistent parsing.\n",
      "  cache_array = _maybe_cache(arg, format, cache, convert_listlike)\n",
      "C:\\Users\\ladoming\\Anaconda3\\lib\\site-packages\\pandas\\core\\tools\\datetimes.py:1047: UserWarning: Parsing '13/06/2022' in DD/MM/YYYY format. Provide format or specify infer_datetime_format=True for consistent parsing.\n",
      "  cache_array = _maybe_cache(arg, format, cache, convert_listlike)\n",
      "C:\\Users\\ladoming\\Anaconda3\\lib\\site-packages\\pandas\\core\\tools\\datetimes.py:1047: UserWarning: Parsing '14/06/2022' in DD/MM/YYYY format. Provide format or specify infer_datetime_format=True for consistent parsing.\n",
      "  cache_array = _maybe_cache(arg, format, cache, convert_listlike)\n",
      "C:\\Users\\ladoming\\Anaconda3\\lib\\site-packages\\pandas\\core\\tools\\datetimes.py:1047: UserWarning: Parsing '15/06/2022' in DD/MM/YYYY format. Provide format or specify infer_datetime_format=True for consistent parsing.\n",
      "  cache_array = _maybe_cache(arg, format, cache, convert_listlike)\n",
      "C:\\Users\\ladoming\\Anaconda3\\lib\\site-packages\\pandas\\core\\tools\\datetimes.py:1047: UserWarning: Parsing '16/06/2022' in DD/MM/YYYY format. Provide format or specify infer_datetime_format=True for consistent parsing.\n",
      "  cache_array = _maybe_cache(arg, format, cache, convert_listlike)\n",
      "C:\\Users\\ladoming\\Anaconda3\\lib\\site-packages\\pandas\\core\\tools\\datetimes.py:1047: UserWarning: Parsing '17/06/2022' in DD/MM/YYYY format. Provide format or specify infer_datetime_format=True for consistent parsing.\n",
      "  cache_array = _maybe_cache(arg, format, cache, convert_listlike)\n",
      "C:\\Users\\ladoming\\Anaconda3\\lib\\site-packages\\pandas\\core\\tools\\datetimes.py:1047: UserWarning: Parsing '18/06/2022' in DD/MM/YYYY format. Provide format or specify infer_datetime_format=True for consistent parsing.\n",
      "  cache_array = _maybe_cache(arg, format, cache, convert_listlike)\n",
      "C:\\Users\\ladoming\\Anaconda3\\lib\\site-packages\\pandas\\core\\tools\\datetimes.py:1047: UserWarning: Parsing '19/06/2022' in DD/MM/YYYY format. Provide format or specify infer_datetime_format=True for consistent parsing.\n",
      "  cache_array = _maybe_cache(arg, format, cache, convert_listlike)\n",
      "C:\\Users\\ladoming\\Anaconda3\\lib\\site-packages\\pandas\\core\\tools\\datetimes.py:1047: UserWarning: Parsing '20/06/2022' in DD/MM/YYYY format. Provide format or specify infer_datetime_format=True for consistent parsing.\n",
      "  cache_array = _maybe_cache(arg, format, cache, convert_listlike)\n",
      "C:\\Users\\ladoming\\Anaconda3\\lib\\site-packages\\pandas\\core\\tools\\datetimes.py:1047: UserWarning: Parsing '21/06/2022' in DD/MM/YYYY format. Provide format or specify infer_datetime_format=True for consistent parsing.\n",
      "  cache_array = _maybe_cache(arg, format, cache, convert_listlike)\n",
      "C:\\Users\\ladoming\\Anaconda3\\lib\\site-packages\\pandas\\core\\tools\\datetimes.py:1047: UserWarning: Parsing '22/06/2022' in DD/MM/YYYY format. Provide format or specify infer_datetime_format=True for consistent parsing.\n",
      "  cache_array = _maybe_cache(arg, format, cache, convert_listlike)\n",
      "C:\\Users\\ladoming\\Anaconda3\\lib\\site-packages\\pandas\\core\\tools\\datetimes.py:1047: UserWarning: Parsing '23/06/2022' in DD/MM/YYYY format. Provide format or specify infer_datetime_format=True for consistent parsing.\n",
      "  cache_array = _maybe_cache(arg, format, cache, convert_listlike)\n",
      "C:\\Users\\ladoming\\Anaconda3\\lib\\site-packages\\pandas\\core\\tools\\datetimes.py:1047: UserWarning: Parsing '24/06/2022' in DD/MM/YYYY format. Provide format or specify infer_datetime_format=True for consistent parsing.\n",
      "  cache_array = _maybe_cache(arg, format, cache, convert_listlike)\n",
      "C:\\Users\\ladoming\\Anaconda3\\lib\\site-packages\\pandas\\core\\tools\\datetimes.py:1047: UserWarning: Parsing '25/06/2022' in DD/MM/YYYY format. Provide format or specify infer_datetime_format=True for consistent parsing.\n",
      "  cache_array = _maybe_cache(arg, format, cache, convert_listlike)\n",
      "C:\\Users\\ladoming\\Anaconda3\\lib\\site-packages\\pandas\\core\\tools\\datetimes.py:1047: UserWarning: Parsing '26/06/2022' in DD/MM/YYYY format. Provide format or specify infer_datetime_format=True for consistent parsing.\n",
      "  cache_array = _maybe_cache(arg, format, cache, convert_listlike)\n",
      "C:\\Users\\ladoming\\Anaconda3\\lib\\site-packages\\pandas\\core\\tools\\datetimes.py:1047: UserWarning: Parsing '27/06/2022' in DD/MM/YYYY format. Provide format or specify infer_datetime_format=True for consistent parsing.\n",
      "  cache_array = _maybe_cache(arg, format, cache, convert_listlike)\n",
      "C:\\Users\\ladoming\\Anaconda3\\lib\\site-packages\\pandas\\core\\tools\\datetimes.py:1047: UserWarning: Parsing '28/06/2022' in DD/MM/YYYY format. Provide format or specify infer_datetime_format=True for consistent parsing.\n",
      "  cache_array = _maybe_cache(arg, format, cache, convert_listlike)\n",
      "C:\\Users\\ladoming\\Anaconda3\\lib\\site-packages\\pandas\\core\\tools\\datetimes.py:1047: UserWarning: Parsing '29/06/2022' in DD/MM/YYYY format. Provide format or specify infer_datetime_format=True for consistent parsing.\n",
      "  cache_array = _maybe_cache(arg, format, cache, convert_listlike)\n",
      "C:\\Users\\ladoming\\Anaconda3\\lib\\site-packages\\pandas\\core\\tools\\datetimes.py:1047: UserWarning: Parsing '30/06/2022' in DD/MM/YYYY format. Provide format or specify infer_datetime_format=True for consistent parsing.\n",
      "  cache_array = _maybe_cache(arg, format, cache, convert_listlike)\n",
      "C:\\Users\\ladoming\\Anaconda3\\lib\\site-packages\\pandas\\core\\tools\\datetimes.py:1047: UserWarning: Parsing '13/07/2022' in DD/MM/YYYY format. Provide format or specify infer_datetime_format=True for consistent parsing.\n",
      "  cache_array = _maybe_cache(arg, format, cache, convert_listlike)\n",
      "C:\\Users\\ladoming\\Anaconda3\\lib\\site-packages\\pandas\\core\\tools\\datetimes.py:1047: UserWarning: Parsing '14/07/2022' in DD/MM/YYYY format. Provide format or specify infer_datetime_format=True for consistent parsing.\n",
      "  cache_array = _maybe_cache(arg, format, cache, convert_listlike)\n",
      "C:\\Users\\ladoming\\Anaconda3\\lib\\site-packages\\pandas\\core\\tools\\datetimes.py:1047: UserWarning: Parsing '15/07/2022' in DD/MM/YYYY format. Provide format or specify infer_datetime_format=True for consistent parsing.\n",
      "  cache_array = _maybe_cache(arg, format, cache, convert_listlike)\n",
      "C:\\Users\\ladoming\\Anaconda3\\lib\\site-packages\\pandas\\core\\tools\\datetimes.py:1047: UserWarning: Parsing '17/07/2022' in DD/MM/YYYY format. Provide format or specify infer_datetime_format=True for consistent parsing.\n",
      "  cache_array = _maybe_cache(arg, format, cache, convert_listlike)\n",
      "C:\\Users\\ladoming\\Anaconda3\\lib\\site-packages\\pandas\\core\\tools\\datetimes.py:1047: UserWarning: Parsing '18/07/2022' in DD/MM/YYYY format. Provide format or specify infer_datetime_format=True for consistent parsing.\n",
      "  cache_array = _maybe_cache(arg, format, cache, convert_listlike)\n",
      "C:\\Users\\ladoming\\Anaconda3\\lib\\site-packages\\pandas\\core\\tools\\datetimes.py:1047: UserWarning: Parsing '19/07/2022' in DD/MM/YYYY format. Provide format or specify infer_datetime_format=True for consistent parsing.\n",
      "  cache_array = _maybe_cache(arg, format, cache, convert_listlike)\n",
      "C:\\Users\\ladoming\\Anaconda3\\lib\\site-packages\\pandas\\core\\tools\\datetimes.py:1047: UserWarning: Parsing '20/07/2022' in DD/MM/YYYY format. Provide format or specify infer_datetime_format=True for consistent parsing.\n",
      "  cache_array = _maybe_cache(arg, format, cache, convert_listlike)\n",
      "C:\\Users\\ladoming\\Anaconda3\\lib\\site-packages\\pandas\\core\\tools\\datetimes.py:1047: UserWarning: Parsing '21/07/2022' in DD/MM/YYYY format. Provide format or specify infer_datetime_format=True for consistent parsing.\n",
      "  cache_array = _maybe_cache(arg, format, cache, convert_listlike)\n",
      "C:\\Users\\ladoming\\Anaconda3\\lib\\site-packages\\pandas\\core\\tools\\datetimes.py:1047: UserWarning: Parsing '22/07/2022' in DD/MM/YYYY format. Provide format or specify infer_datetime_format=True for consistent parsing.\n",
      "  cache_array = _maybe_cache(arg, format, cache, convert_listlike)\n",
      "C:\\Users\\ladoming\\Anaconda3\\lib\\site-packages\\pandas\\core\\tools\\datetimes.py:1047: UserWarning: Parsing '23/07/2022' in DD/MM/YYYY format. Provide format or specify infer_datetime_format=True for consistent parsing.\n",
      "  cache_array = _maybe_cache(arg, format, cache, convert_listlike)\n",
      "C:\\Users\\ladoming\\Anaconda3\\lib\\site-packages\\pandas\\core\\tools\\datetimes.py:1047: UserWarning: Parsing '24/07/2022' in DD/MM/YYYY format. Provide format or specify infer_datetime_format=True for consistent parsing.\n",
      "  cache_array = _maybe_cache(arg, format, cache, convert_listlike)\n",
      "C:\\Users\\ladoming\\Anaconda3\\lib\\site-packages\\pandas\\core\\tools\\datetimes.py:1047: UserWarning: Parsing '25/07/2022' in DD/MM/YYYY format. Provide format or specify infer_datetime_format=True for consistent parsing.\n",
      "  cache_array = _maybe_cache(arg, format, cache, convert_listlike)\n",
      "C:\\Users\\ladoming\\Anaconda3\\lib\\site-packages\\pandas\\core\\tools\\datetimes.py:1047: UserWarning: Parsing '26/07/2022' in DD/MM/YYYY format. Provide format or specify infer_datetime_format=True for consistent parsing.\n",
      "  cache_array = _maybe_cache(arg, format, cache, convert_listlike)\n",
      "C:\\Users\\ladoming\\Anaconda3\\lib\\site-packages\\pandas\\core\\tools\\datetimes.py:1047: UserWarning: Parsing '27/07/2022' in DD/MM/YYYY format. Provide format or specify infer_datetime_format=True for consistent parsing.\n",
      "  cache_array = _maybe_cache(arg, format, cache, convert_listlike)\n",
      "C:\\Users\\ladoming\\Anaconda3\\lib\\site-packages\\pandas\\core\\tools\\datetimes.py:1047: UserWarning: Parsing '28/07/2022' in DD/MM/YYYY format. Provide format or specify infer_datetime_format=True for consistent parsing.\n",
      "  cache_array = _maybe_cache(arg, format, cache, convert_listlike)\n",
      "C:\\Users\\ladoming\\Anaconda3\\lib\\site-packages\\pandas\\core\\tools\\datetimes.py:1047: UserWarning: Parsing '29/07/2022' in DD/MM/YYYY format. Provide format or specify infer_datetime_format=True for consistent parsing.\n",
      "  cache_array = _maybe_cache(arg, format, cache, convert_listlike)\n",
      "C:\\Users\\ladoming\\Anaconda3\\lib\\site-packages\\pandas\\core\\tools\\datetimes.py:1047: UserWarning: Parsing '30/07/2022' in DD/MM/YYYY format. Provide format or specify infer_datetime_format=True for consistent parsing.\n",
      "  cache_array = _maybe_cache(arg, format, cache, convert_listlike)\n",
      "C:\\Users\\ladoming\\Anaconda3\\lib\\site-packages\\pandas\\core\\tools\\datetimes.py:1047: UserWarning: Parsing '31/07/2022' in DD/MM/YYYY format. Provide format or specify infer_datetime_format=True for consistent parsing.\n",
      "  cache_array = _maybe_cache(arg, format, cache, convert_listlike)\n",
      "C:\\Users\\ladoming\\Anaconda3\\lib\\site-packages\\pandas\\core\\tools\\datetimes.py:1047: UserWarning: Parsing '13/08/2022' in DD/MM/YYYY format. Provide format or specify infer_datetime_format=True for consistent parsing.\n",
      "  cache_array = _maybe_cache(arg, format, cache, convert_listlike)\n",
      "C:\\Users\\ladoming\\Anaconda3\\lib\\site-packages\\pandas\\core\\tools\\datetimes.py:1047: UserWarning: Parsing '14/08/2022' in DD/MM/YYYY format. Provide format or specify infer_datetime_format=True for consistent parsing.\n",
      "  cache_array = _maybe_cache(arg, format, cache, convert_listlike)\n",
      "C:\\Users\\ladoming\\Anaconda3\\lib\\site-packages\\pandas\\core\\tools\\datetimes.py:1047: UserWarning: Parsing '15/08/2022' in DD/MM/YYYY format. Provide format or specify infer_datetime_format=True for consistent parsing.\n",
      "  cache_array = _maybe_cache(arg, format, cache, convert_listlike)\n",
      "C:\\Users\\ladoming\\Anaconda3\\lib\\site-packages\\pandas\\core\\tools\\datetimes.py:1047: UserWarning: Parsing '16/08/2022' in DD/MM/YYYY format. Provide format or specify infer_datetime_format=True for consistent parsing.\n",
      "  cache_array = _maybe_cache(arg, format, cache, convert_listlike)\n",
      "C:\\Users\\ladoming\\Anaconda3\\lib\\site-packages\\pandas\\core\\tools\\datetimes.py:1047: UserWarning: Parsing '17/08/2022' in DD/MM/YYYY format. Provide format or specify infer_datetime_format=True for consistent parsing.\n",
      "  cache_array = _maybe_cache(arg, format, cache, convert_listlike)\n",
      "C:\\Users\\ladoming\\Anaconda3\\lib\\site-packages\\pandas\\core\\tools\\datetimes.py:1047: UserWarning: Parsing '18/08/2022' in DD/MM/YYYY format. Provide format or specify infer_datetime_format=True for consistent parsing.\n",
      "  cache_array = _maybe_cache(arg, format, cache, convert_listlike)\n",
      "C:\\Users\\ladoming\\Anaconda3\\lib\\site-packages\\pandas\\core\\tools\\datetimes.py:1047: UserWarning: Parsing '19/08/2022' in DD/MM/YYYY format. Provide format or specify infer_datetime_format=True for consistent parsing.\n",
      "  cache_array = _maybe_cache(arg, format, cache, convert_listlike)\n",
      "C:\\Users\\ladoming\\Anaconda3\\lib\\site-packages\\pandas\\core\\tools\\datetimes.py:1047: UserWarning: Parsing '20/08/2022' in DD/MM/YYYY format. Provide format or specify infer_datetime_format=True for consistent parsing.\n",
      "  cache_array = _maybe_cache(arg, format, cache, convert_listlike)\n",
      "C:\\Users\\ladoming\\Anaconda3\\lib\\site-packages\\pandas\\core\\tools\\datetimes.py:1047: UserWarning: Parsing '21/08/2022' in DD/MM/YYYY format. Provide format or specify infer_datetime_format=True for consistent parsing.\n",
      "  cache_array = _maybe_cache(arg, format, cache, convert_listlike)\n",
      "C:\\Users\\ladoming\\Anaconda3\\lib\\site-packages\\pandas\\core\\tools\\datetimes.py:1047: UserWarning: Parsing '22/08/2022' in DD/MM/YYYY format. Provide format or specify infer_datetime_format=True for consistent parsing.\n",
      "  cache_array = _maybe_cache(arg, format, cache, convert_listlike)\n",
      "C:\\Users\\ladoming\\Anaconda3\\lib\\site-packages\\pandas\\core\\tools\\datetimes.py:1047: UserWarning: Parsing '23/08/2022' in DD/MM/YYYY format. Provide format or specify infer_datetime_format=True for consistent parsing.\n",
      "  cache_array = _maybe_cache(arg, format, cache, convert_listlike)\n",
      "C:\\Users\\ladoming\\Anaconda3\\lib\\site-packages\\pandas\\core\\tools\\datetimes.py:1047: UserWarning: Parsing '24/08/2022' in DD/MM/YYYY format. Provide format or specify infer_datetime_format=True for consistent parsing.\n",
      "  cache_array = _maybe_cache(arg, format, cache, convert_listlike)\n",
      "C:\\Users\\ladoming\\Anaconda3\\lib\\site-packages\\pandas\\core\\tools\\datetimes.py:1047: UserWarning: Parsing '25/08/2022' in DD/MM/YYYY format. Provide format or specify infer_datetime_format=True for consistent parsing.\n",
      "  cache_array = _maybe_cache(arg, format, cache, convert_listlike)\n",
      "C:\\Users\\ladoming\\Anaconda3\\lib\\site-packages\\pandas\\core\\tools\\datetimes.py:1047: UserWarning: Parsing '26/08/2022' in DD/MM/YYYY format. Provide format or specify infer_datetime_format=True for consistent parsing.\n",
      "  cache_array = _maybe_cache(arg, format, cache, convert_listlike)\n",
      "C:\\Users\\ladoming\\Anaconda3\\lib\\site-packages\\pandas\\core\\tools\\datetimes.py:1047: UserWarning: Parsing '27/08/2022' in DD/MM/YYYY format. Provide format or specify infer_datetime_format=True for consistent parsing.\n",
      "  cache_array = _maybe_cache(arg, format, cache, convert_listlike)\n",
      "C:\\Users\\ladoming\\Anaconda3\\lib\\site-packages\\pandas\\core\\tools\\datetimes.py:1047: UserWarning: Parsing '28/08/2022' in DD/MM/YYYY format. Provide format or specify infer_datetime_format=True for consistent parsing.\n",
      "  cache_array = _maybe_cache(arg, format, cache, convert_listlike)\n",
      "C:\\Users\\ladoming\\Anaconda3\\lib\\site-packages\\pandas\\core\\tools\\datetimes.py:1047: UserWarning: Parsing '29/08/2022' in DD/MM/YYYY format. Provide format or specify infer_datetime_format=True for consistent parsing.\n",
      "  cache_array = _maybe_cache(arg, format, cache, convert_listlike)\n",
      "C:\\Users\\ladoming\\Anaconda3\\lib\\site-packages\\pandas\\core\\tools\\datetimes.py:1047: UserWarning: Parsing '30/08/2022' in DD/MM/YYYY format. Provide format or specify infer_datetime_format=True for consistent parsing.\n",
      "  cache_array = _maybe_cache(arg, format, cache, convert_listlike)\n",
      "C:\\Users\\ladoming\\Anaconda3\\lib\\site-packages\\pandas\\core\\tools\\datetimes.py:1047: UserWarning: Parsing '31/08/2022' in DD/MM/YYYY format. Provide format or specify infer_datetime_format=True for consistent parsing.\n",
      "  cache_array = _maybe_cache(arg, format, cache, convert_listlike)\n"
     ]
    },
    {
     "name": "stderr",
     "output_type": "stream",
     "text": [
      "C:\\Users\\ladoming\\AppData\\Local\\Temp\\ipykernel_20028\\264757128.py:3: SettingWithCopyWarning: \n",
      "A value is trying to be set on a copy of a slice from a DataFrame.\n",
      "Try using .loc[row_indexer,col_indexer] = value instead\n",
      "\n",
      "See the caveats in the documentation: https://pandas.pydata.org/pandas-docs/stable/user_guide/indexing.html#returning-a-view-versus-a-copy\n",
      "  df_renovacion.FECHA_MATRICULA_RENOVACION = pd.to_datetime(df_renovacion.FECHA_MATRICULA_RENOVACION)\n"
     ]
    }
   ],
   "source": [
    "# Aqui DEBE IR EL CODIGO DESPUES DE LIMPIAR EL TEMA DE RENOVACIONES MAS VIEJAS QUE LAS MATRICULAS. SE DEBEN ELIMINAR LAS RENOVACIONES CON FECHAS ANTERIORES A LAS DE LAS MATRICULAS porque esto es un indicador que la empresa hizo un translado de domicilio y se trajo todo su historial a la CCC\n",
    "# Se convierte la variable FECHA_MATRICULA_RENOVACION_HORA en datetime para facilitar manupulación de los datos\n",
    "df_renovacion.FECHA_MATRICULA_RENOVACION = pd.to_datetime(df_renovacion.FECHA_MATRICULA_RENOVACION)\n",
    "df_renovacion = df_renovacion.loc[df_renovacion['FECHA_MATRICULA']<=df_renovacion['FECHA_MATRICULA_RENOVACION']]"
   ]
  },
  {
   "cell_type": "code",
   "execution_count": 35,
   "id": "ed01bb2b",
   "metadata": {
    "id": "ed01bb2b"
   },
   "outputs": [
    {
     "data": {
      "text/html": [
       "<div>\n",
       "<style scoped>\n",
       "    .dataframe tbody tr th:only-of-type {\n",
       "        vertical-align: middle;\n",
       "    }\n",
       "\n",
       "    .dataframe tbody tr th {\n",
       "        vertical-align: top;\n",
       "    }\n",
       "\n",
       "    .dataframe thead th {\n",
       "        text-align: right;\n",
       "    }\n",
       "</style>\n",
       "<table border=\"1\" class=\"dataframe\">\n",
       "  <thead>\n",
       "    <tr style=\"text-align: right;\">\n",
       "      <th></th>\n",
       "      <th>MATRICULA</th>\n",
       "      <th>NIT</th>\n",
       "      <th>ESTADO_MAT_REN</th>\n",
       "      <th>MATRICULA_RENOVACION</th>\n",
       "      <th>DESC_CATEGORIA</th>\n",
       "      <th>ESTADO_ACTUAL</th>\n",
       "      <th>SECTOR</th>\n",
       "      <th>RAZON_SOCIAL</th>\n",
       "      <th>DESC_CIIU</th>\n",
       "      <th>NOM_ENTE_JURIDICO</th>\n",
       "      <th>...</th>\n",
       "      <th>CODIGO_CIIU</th>\n",
       "      <th>BARRIO</th>\n",
       "      <th>REP_LEGAL</th>\n",
       "      <th>AFILIADO</th>\n",
       "      <th>PORCENT_EXTRANJERO</th>\n",
       "      <th>FECHA_MATRICULA_RENOVACION</th>\n",
       "      <th>HORA_FECHA_MAT_REN</th>\n",
       "      <th>DIA</th>\n",
       "      <th>MES</th>\n",
       "      <th>ANO</th>\n",
       "    </tr>\n",
       "  </thead>\n",
       "  <tbody>\n",
       "    <tr>\n",
       "      <th>81901</th>\n",
       "      <td>1140755</td>\n",
       "      <td>1193226317</td>\n",
       "      <td>A</td>\n",
       "      <td>Renovacion</td>\n",
       "      <td>PERSONA NATURAL</td>\n",
       "      <td>CANCELADO</td>\n",
       "      <td>K</td>\n",
       "      <td>ELAGO BOTOTO LUZ ENITH                        ...</td>\n",
       "      <td>ACTIVIDADES DE AGENTES Y CORREDORES DE SEGUROS...</td>\n",
       "      <td>Persona Natural                               ...</td>\n",
       "      <td>...</td>\n",
       "      <td>6621</td>\n",
       "      <td>Jorge Zawadsky</td>\n",
       "      <td>LUZ ENITH ELAGO BOTOTO</td>\n",
       "      <td>N</td>\n",
       "      <td>NaN</td>\n",
       "      <td>2022-01-02</td>\n",
       "      <td>12:00:00 a.m.</td>\n",
       "      <td>1</td>\n",
       "      <td>02</td>\n",
       "      <td>2022</td>\n",
       "    </tr>\n",
       "    <tr>\n",
       "      <th>81899</th>\n",
       "      <td>1140754</td>\n",
       "      <td>1144125962</td>\n",
       "      <td>A</td>\n",
       "      <td>Renovacion</td>\n",
       "      <td>PERSONA NATURAL</td>\n",
       "      <td>ACTIVO</td>\n",
       "      <td>S</td>\n",
       "      <td>ALVAREZ VALDES SANDRA LADY                    ...</td>\n",
       "      <td>PELUQUERÍA Y OTROS TRATAMIENTOS DE BELLEZA    ...</td>\n",
       "      <td>Persona Natural                               ...</td>\n",
       "      <td>...</td>\n",
       "      <td>9602</td>\n",
       "      <td>NaN</td>\n",
       "      <td>SANDRA LADY ALVAREZ VALDES</td>\n",
       "      <td>N</td>\n",
       "      <td>NaN</td>\n",
       "      <td>2022-01-02</td>\n",
       "      <td>12:00:00 a.m.</td>\n",
       "      <td>1</td>\n",
       "      <td>02</td>\n",
       "      <td>2022</td>\n",
       "    </tr>\n",
       "  </tbody>\n",
       "</table>\n",
       "<p>2 rows × 43 columns</p>\n",
       "</div>"
      ],
      "text/plain": [
       "      MATRICULA         NIT ESTADO_MAT_REN MATRICULA_RENOVACION  \\\n",
       "81901   1140755  1193226317              A           Renovacion   \n",
       "81899   1140754  1144125962              A           Renovacion   \n",
       "\n",
       "        DESC_CATEGORIA ESTADO_ACTUAL SECTOR  \\\n",
       "81901  PERSONA NATURAL     CANCELADO      K   \n",
       "81899  PERSONA NATURAL        ACTIVO      S   \n",
       "\n",
       "                                            RAZON_SOCIAL  \\\n",
       "81901  ELAGO BOTOTO LUZ ENITH                        ...   \n",
       "81899  ALVAREZ VALDES SANDRA LADY                    ...   \n",
       "\n",
       "                                               DESC_CIIU  \\\n",
       "81901  ACTIVIDADES DE AGENTES Y CORREDORES DE SEGUROS...   \n",
       "81899  PELUQUERÍA Y OTROS TRATAMIENTOS DE BELLEZA    ...   \n",
       "\n",
       "                                       NOM_ENTE_JURIDICO  ... CODIGO_CIIU  \\\n",
       "81901  Persona Natural                               ...  ...        6621   \n",
       "81899  Persona Natural                               ...  ...        9602   \n",
       "\n",
       "               BARRIO                       REP_LEGAL AFILIADO  \\\n",
       "81901  Jorge Zawadsky  LUZ ENITH ELAGO BOTOTO                N   \n",
       "81899             NaN  SANDRA LADY ALVAREZ VALDES            N   \n",
       "\n",
       "      PORCENT_EXTRANJERO FECHA_MATRICULA_RENOVACION HORA_FECHA_MAT_REN DIA  \\\n",
       "81901                NaN                 2022-01-02      12:00:00 a.m.   1   \n",
       "81899                NaN                 2022-01-02      12:00:00 a.m.   1   \n",
       "\n",
       "      MES   ANO  \n",
       "81901  02  2022  \n",
       "81899  02  2022  \n",
       "\n",
       "[2 rows x 43 columns]"
      ]
     },
     "execution_count": 35,
     "metadata": {},
     "output_type": "execute_result"
    }
   ],
   "source": [
    "# Se organizan las bases según la fecha en la cual se hizo el movimiento corresspondiente a Matricual o Renovación para posterior limpieza. Vale aclarar que esta el ordenamiento es descendente, es decir, se comienza desde YYYY/01/01 00:00 hasta YYYY/12/31 23:59 (de enero a diciembre)\n",
    "df_matricula=df_matricula.sort_values('FECHA_MATRICULA_RENOVACION_HORA')\n",
    "df_renovacion=df_renovacion.sort_values('FECHA_MATRICULA_RENOVACION_HORA')\n",
    "df_renovacion.head(2)"
   ]
  },
  {
   "cell_type": "code",
   "execution_count": 36,
   "id": "4c719854",
   "metadata": {
    "id": "4c719854"
   },
   "outputs": [],
   "source": [
    "# Se procede a eliminar los duplicados en las dos bases y la idea es dejar el último movimiento registrado. Esto se debe gracias a que se identificó que algunas empresas registran algun movimiento y por algun motivo este es devuelto, en la mayoría de los casos la corrección sugerida es hecha en el plazo para mantener la fecha inicial del movimiento, sin embargo, cuando la empresa deja pasar este plazo máximo se debe generar un nuevo movimiento lo cual genera duplicados en la información\n",
    "df2_matricula=df_matricula.sort_values('FECHA_MATRICULA_RENOVACION_HORA').drop_duplicates('MATRICULA', keep='last')\n",
    "df2_renovacion=df_renovacion.sort_values('FECHA_MATRICULA_RENOVACION_HORA').drop_duplicates('MATRICULA', keep='last')"
   ]
  },
  {
   "cell_type": "code",
   "execution_count": 37,
   "id": "f413ea5f",
   "metadata": {
    "id": "f413ea5f"
   },
   "outputs": [
    {
     "name": "stdout",
     "output_type": "stream",
     "text": [
      "El número de registros en la BD para Matriculas después de eliminar duplicados es:\n",
      "Matricula    14988\n",
      "Name: MATRICULA_RENOVACION, dtype: int64\n",
      "El número de registros en la BD para Renovaciones después de eliminar duplicados es:\n",
      "Renovacion    93248\n",
      "Name: MATRICULA_RENOVACION, dtype: int64\n"
     ]
    }
   ],
   "source": [
    "# Una vez eliminados lo duplicados se cuenta el número de resgitros \n",
    "print('El número de registros en la BD para Matriculas después de eliminar duplicados es:', df2_matricula.MATRICULA_RENOVACION.value_counts(), sep='\\n')\n",
    "print('El número de registros en la BD para Renovaciones después de eliminar duplicados es:', df2_renovacion.MATRICULA_RENOVACION.value_counts(), sep='\\n')"
   ]
  },
  {
   "cell_type": "code",
   "execution_count": 38,
   "id": "96fa1d4d",
   "metadata": {
    "id": "96fa1d4d"
   },
   "outputs": [
    {
     "name": "stdout",
     "output_type": "stream",
     "text": [
      "El número de registros en la BD unida es:\n",
      "Renovacion    93248\n",
      "Matricula     14988\n",
      "Name: MATRICULA_RENOVACION, dtype: int64\n"
     ]
    }
   ],
   "source": [
    "# Se procede a unir las bases de datos para la posterior limpieza en conjunto\n",
    "df2 = pd.concat([df2_matricula, df2_renovacion])\n",
    "df2 = df2.sort_values('MATRICULA_RENOVACION', ascending=True)\n",
    "print('El número de registros en la BD unida es:', df2.MATRICULA_RENOVACION.value_counts(), sep='\\n')"
   ]
  },
  {
   "cell_type": "code",
   "execution_count": 39,
   "id": "d43aad4a",
   "metadata": {
    "id": "d43aad4a"
   },
   "outputs": [
    {
     "name": "stdout",
     "output_type": "stream",
     "text": [
      "El número de registros en la BD unida sin duplicados es:\n",
      "Renovacion    78264\n",
      "Matricula     14988\n",
      "Name: MATRICULA_RENOVACION, dtype: int64\n"
     ]
    }
   ],
   "source": [
    "# Para eliminar duplicados se debe tener en cuenta que en Matricula nos interesa dejar el primer registro que tengamos en la base pues por cada matricula se genera una renovación\n",
    "df3 = df2.sort_values('MATRICULA_RENOVACION', ascending=True).drop_duplicates('MATRICULA', keep='first')\n",
    "print('El número de registros en la BD unida sin duplicados es:', df3.MATRICULA_RENOVACION.value_counts(), sep='\\n')"
   ]
  },
  {
   "cell_type": "markdown",
   "id": "256606df",
   "metadata": {
    "id": "256606df"
   },
   "source": [
    "### Indicador de calidad - Unicidad"
   ]
  },
  {
   "cell_type": "code",
   "execution_count": 40,
   "id": "251f528b",
   "metadata": {
    "id": "251f528b"
   },
   "outputs": [
    {
     "data": {
      "text/plain": [
       "0.8598299739981928"
      ]
     },
     "execution_count": 40,
     "metadata": {},
     "output_type": "execute_result"
    }
   ],
   "source": [
    "## Calculo indicador duplicado\n",
    "\n",
    "porcentaje_no_duplicados= (len(df3)/len(df))\n",
    "porcentaje_no_duplicados\n",
    "\n",
    "#"
   ]
  },
  {
   "cell_type": "markdown",
   "id": "5c0b6447",
   "metadata": {
    "id": "5c0b6447"
   },
   "source": [
    "\n",
    "\n"
   ]
  },
  {
   "cell_type": "markdown",
   "id": "c0e91f14",
   "metadata": {
    "id": "c0e91f14"
   },
   "source": [
    "# Cálculo de indicador de calidad agregado"
   ]
  },
  {
   "cell_type": "code",
   "execution_count": 41,
   "id": "5428dd28",
   "metadata": {
    "id": "5428dd28"
   },
   "outputs": [
    {
     "name": "stdout",
     "output_type": "stream",
     "text": [
      "Valor del IQA tomando como agregación el mínimo: \n",
      "\n",
      "Dimensión exactitud: 0.99989\n",
      "Dimensión completitud: 0.33734\n",
      "Dimensión consistencia: 0.99053\n",
      "Dimensión unicidad: 0.85983 \n",
      "\n",
      "El IQA obtenido por medio del método del mínimo es : 0.71662 \n",
      "\n",
      "Valor del IQA tomando como agregación el promedio: \n",
      "\n",
      "Dimensión exactitud: 0.99994\n",
      "Dimensión completitud: 0.92842\n",
      "Dimensión consistencia: 0.9952\n",
      "Dimensión unicidad: 0.85983 \n",
      "\n",
      "El IQA obtenido por medio del método del promedio es: 0.89418\n"
     ]
    }
   ],
   "source": [
    "IQA_min=(0.05*indicador_exactitud_minimo) + (0.3*indicador_completitud_minimo) + (0.05*indicador_consistencia_minimo) + (0.6*porcentaje_no_duplicados)\n",
    "IQA_promedio=(0.05*indicador_exactitud_promedio) + (0.3*indicador_completitud_promedio) + (0.05*indicador_consistencia_promedio) + (0.6*porcentaje_no_duplicados)\n",
    "\n",
    "##Minimo\n",
    "print(f'Valor del IQA tomando como agregación el mínimo: \\n')\n",
    "print(f'Dimensión exactitud: {np.round(indicador_exactitud_minimo,5)}')\n",
    "print(f'Dimensión completitud: {np.round(indicador_completitud_minimo,5)}')\n",
    "print(f'Dimensión consistencia: {np.round(indicador_consistencia_minimo,5)}')\n",
    "print(f'Dimensión unicidad: {np.round(porcentaje_no_duplicados,5)} \\n')\n",
    "\n",
    "print(f'El IQA obtenido por medio del método del mínimo es : {np.round(IQA_min,5)} \\n')\n",
    "\n",
    "##Promedio\n",
    "print(f'Valor del IQA tomando como agregación el promedio: \\n')\n",
    "print(f'Dimensión exactitud: {np.round(indicador_exactitud_promedio,5)}')\n",
    "print(f'Dimensión completitud: {np.round(indicador_completitud_promedio,5)}')\n",
    "print(f'Dimensión consistencia: {np.round(indicador_consistencia_promedio,5)}')\n",
    "print(f'Dimensión unicidad: {np.round(porcentaje_no_duplicados,5)} \\n')\n",
    "\n",
    "print(f'El IQA obtenido por medio del método del promedio es: {np.round(IQA_promedio,5)}')"
   ]
  },
  {
   "cell_type": "markdown",
   "id": "TV9MYmDObYaW",
   "metadata": {
    "id": "TV9MYmDObYaW"
   },
   "source": [
    "# Cálculo con pesos proporcionales "
   ]
  },
  {
   "cell_type": "code",
   "execution_count": 42,
   "id": "ElGpbadQbNol",
   "metadata": {
    "id": "ElGpbadQbNol"
   },
   "outputs": [
    {
     "name": "stdout",
     "output_type": "stream",
     "text": [
      "Valor del IQA tomando como agregación el mínimo: \n",
      "\n",
      "Dimensión exactitud: 0.99989\n",
      "Dimensión completitud: 0.33734\n",
      "Dimensión consistencia: 0.99053\n",
      "Dimensión unicidad: 0.85983 \n",
      "\n",
      "El IQA obtenido por medio del método del mínimo es : 0.7969 \n",
      "\n",
      "Valor del IQA tomando como agregación el promedio: \n",
      "\n",
      "Dimensión exactitud: 0.99994\n",
      "Dimensión completitud: 0.92842\n",
      "Dimensión consistencia: 0.9952\n",
      "Dimensión unicidad: 0.85983 \n",
      "\n",
      "El IQA obtenido por medio del método del promedio es: 0.94585\n"
     ]
    }
   ],
   "source": [
    "IQA_min=(0.25*indicador_exactitud_minimo) + (0.25*indicador_completitud_minimo) + (0.25*indicador_consistencia_minimo) + (0.25*porcentaje_no_duplicados)\n",
    "IQA_promedio=(0.25*indicador_exactitud_promedio) + (0.25*indicador_completitud_promedio) + (0.25*indicador_consistencia_promedio) + (0.25*porcentaje_no_duplicados)\n",
    "\n",
    "##Minimo\n",
    "print(f'Valor del IQA tomando como agregación el mínimo: \\n')\n",
    "print(f'Dimensión exactitud: {np.round(indicador_exactitud_minimo,5)}')\n",
    "print(f'Dimensión completitud: {np.round(indicador_completitud_minimo,5)}')\n",
    "print(f'Dimensión consistencia: {np.round(indicador_consistencia_minimo,5)}')\n",
    "print(f'Dimensión unicidad: {np.round(porcentaje_no_duplicados,5)} \\n')\n",
    "\n",
    "print(f'El IQA obtenido por medio del método del mínimo es : {np.round(IQA_min,5)} \\n')\n",
    "\n",
    "##Promedio\n",
    "print(f'Valor del IQA tomando como agregación el promedio: \\n')\n",
    "print(f'Dimensión exactitud: {np.round(indicador_exactitud_promedio,5)}')\n",
    "print(f'Dimensión completitud: {np.round(indicador_completitud_promedio,5)}')\n",
    "print(f'Dimensión consistencia: {np.round(indicador_consistencia_promedio,5)}')\n",
    "print(f'Dimensión unicidad: {np.round(porcentaje_no_duplicados,5)} \\n')\n",
    "\n",
    "print(f'El IQA obtenido por medio del método del promedio es: {np.round(IQA_promedio,5)}')"
   ]
  },
  {
   "cell_type": "markdown",
   "id": "16c041d5",
   "metadata": {},
   "source": [
    "# **ÍNDICE JLC**"
   ]
  },
  {
   "cell_type": "code",
   "execution_count": null,
   "id": "9f3a004d",
   "metadata": {},
   "outputs": [],
   "source": []
  }
 ],
 "metadata": {
  "colab": {
   "name": "Código Python_IQA.ipynb",
   "provenance": []
  },
  "kernelspec": {
   "display_name": "Python 3 (ipykernel)",
   "language": "python",
   "name": "python3"
  },
  "language_info": {
   "codemirror_mode": {
    "name": "ipython",
    "version": 3
   },
   "file_extension": ".py",
   "mimetype": "text/x-python",
   "name": "python",
   "nbconvert_exporter": "python",
   "pygments_lexer": "ipython3",
   "version": "3.9.12"
  }
 },
 "nbformat": 4,
 "nbformat_minor": 5
}
